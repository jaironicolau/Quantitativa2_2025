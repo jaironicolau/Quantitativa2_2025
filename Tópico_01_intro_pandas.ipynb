{
 "cells": [
  {
   "cell_type": "markdown",
   "id": "33fb5bb2",
   "metadata": {},
   "source": [
    "\n",
    "# Aula 1 — Variáveis e Dados Tabulares com pandas\n",
    "**Curso:** Introdução à Análise de Dados com Python (Ciências Sociais)  \n",
    "**Data:** 11/08/2025\n",
    "\n",
    "**Nesta aula você vai:**\n",
    "- Carregar as bibliotecas necessárias (pandas, numpy, matplotlib).\n",
    "- Entender o que são **casos (linhas)** e **variáveis (colunas)**; o que é **N**.\n",
    "- Diferenciar **tipos de variáveis** (categóricas e numéricas).\n",
    "- Ver a **estrutura tabular** dos dados.\n",
    "- Criar e explorar seu **primeiro DataFrame** no pandas.\n"
   ]
  },
  {
   "cell_type": "markdown",
   "id": "a8638e5a",
   "metadata": {},
   "source": [
    "\n",
    "## Por que aprender isso?\n",
    "Responder perguntas em Ciências Sociais quase sempre envolve **dados**. Pesquisas de opinião,\n",
    "PNAD/IBGE, registros administrativos — tudo costuma chegar para nós em **tabelas**.\n",
    "Saber **identificar variáveis**, reconhecer seus **tipos** e manipular **DataFrames** é o primeiro passo\n",
    "para fazer boas análises e bons gráficos.\n"
   ]
  },
  {
   "cell_type": "markdown",
   "id": "a007a044",
   "metadata": {},
   "source": [
    "## Carregando bibliotecas"
   ]
  },
  {
   "cell_type": "code",
   "execution_count": 1,
   "id": "20e77fc0",
   "metadata": {},
   "outputs": [
    {
     "name": "stderr",
     "output_type": "stream",
     "text": [
      "/opt/anaconda3/lib/python3.9/site-packages/pandas/core/computation/expressions.py:21: UserWarning: Pandas requires version '2.8.4' or newer of 'numexpr' (version '2.8.3' currently installed).\n",
      "  from pandas.core.computation.check import NUMEXPR_INSTALLED\n",
      "/opt/anaconda3/lib/python3.9/site-packages/pandas/core/arrays/masked.py:61: UserWarning: Pandas requires version '1.3.6' or newer of 'bottleneck' (version '1.3.5' currently installed).\n",
      "  from pandas.core import (\n"
     ]
    }
   ],
   "source": [
    "import pandas as pd\n",
    "import numpy as np\n",
    "import matplotlib.pyplot as plt"
   ]
  },
  {
   "cell_type": "markdown",
   "id": "115311aa",
   "metadata": {},
   "source": [
    "\n",
    "## Casos, variáveis e **N**\n",
    "- **Caso (linha):** a unidade que estamos observando (uma pessoa entrevistada, um município, um domicílio).\n",
    "- **Variável (coluna):** um atributo medido em cada caso (idade, escolaridade, religião, renda).\n",
    "- **N:** número de casos (linhas) no nosso conjunto de dados.\n",
    "\n",
    "> Ex.: numa pesquisa com 1.200 entrevistas, **N = 1.200**.\n"
   ]
  },
  {
   "cell_type": "markdown",
   "id": "e495c65b",
   "metadata": {
    "tags": []
   },
   "source": [
    "\n",
    "## Tipos de variáveis (para começar)\n",
    "- **Categóricas:** indicam grupos/categorias. Exemplos: sexo (feminino/masculino), religião (católica/evangélica/sem religião).\n",
    "- **Numéricas (quantitativas):** permitem operações matemáticas. Exemplos: idade em anos, renda mensal, número de filhos.\n",
    "\n",
    "> Nota: às vezes variáveis que **parecem** números (ex.: CPF, CEP) **não** são numéricas para análise; tratamos como **categóricas/strings**.\n"
   ]
  },
  {
   "cell_type": "markdown",
   "id": "63a10e57-f526-4157-848e-569dc1c941a5",
   "metadata": {},
   "source": [
    "## Mini-Quizz\n",
    "\n",
    "Classifique como **categórica** ou **numérica**:"
   ]
  },
  {
   "cell_type": "markdown",
   "id": "3fabb3c4-729b-4fc0-a745-e49796884669",
   "metadata": {},
   "source": [
    "1. Número de crianças em uma creche  \n",
    "2. Sessão eleitoral (código da seção)  \n",
    "3. Estado civil  \n",
    "4. Distância até a escola (em km)  \n",
    "5. CPF\n",
    "\n",
    "<details>\n",
    "<summary><b>Ver gabarito</b></summary>\n",
    "\n",
    "1. Numérica (contagem inteira)  \n",
    "2. Identificador (não fazemos operaçnoes matemáticas)  \n",
    "3. Categórica  \n",
    "4. Numérica (contínua)  \n",
    "5. Identificador (não fazemos operaçnoes matemáticas) \n",
    "\n",
    "</details>"
   ]
  },
  {
   "cell_type": "markdown",
   "id": "a5922c54",
   "metadata": {},
   "source": [
    "\n",
    "## Estrutura tabular (DataFrame)\n",
    "- **Linha = caso**  \n",
    "- **Coluna = variável**  \n",
    "- **Célula = medida de uma variável em um caso**\n",
    "\n",
    "Vamos criar um pequeno banco **fictício** de pesquisa de opinião (10 entrevistas) para praticar.\n"
   ]
  },
  {
   "cell_type": "markdown",
   "id": "8250c554-982c-4902-90c1-56f3b382f8ed",
   "metadata": {},
   "source": [
    "## Nosso primeiro DataFrame (fictício)"
   ]
  },
  {
   "cell_type": "code",
   "execution_count": 3,
   "id": "017db27d",
   "metadata": {},
   "outputs": [
    {
     "data": {
      "text/html": [
       "<div>\n",
       "<style scoped>\n",
       "    .dataframe tbody tr th:only-of-type {\n",
       "        vertical-align: middle;\n",
       "    }\n",
       "\n",
       "    .dataframe tbody tr th {\n",
       "        vertical-align: top;\n",
       "    }\n",
       "\n",
       "    .dataframe thead th {\n",
       "        text-align: right;\n",
       "    }\n",
       "</style>\n",
       "<table border=\"1\" class=\"dataframe\">\n",
       "  <thead>\n",
       "    <tr style=\"text-align: right;\">\n",
       "      <th></th>\n",
       "      <th>id</th>\n",
       "      <th>sexo</th>\n",
       "      <th>idade</th>\n",
       "      <th>escolaridade</th>\n",
       "      <th>religiao</th>\n",
       "      <th>renda_mensal</th>\n",
       "    </tr>\n",
       "  </thead>\n",
       "  <tbody>\n",
       "    <tr>\n",
       "      <th>0</th>\n",
       "      <td>1</td>\n",
       "      <td>feminino</td>\n",
       "      <td>19</td>\n",
       "      <td>fundamental</td>\n",
       "      <td>católica</td>\n",
       "      <td>1200</td>\n",
       "    </tr>\n",
       "    <tr>\n",
       "      <th>1</th>\n",
       "      <td>2</td>\n",
       "      <td>masculino</td>\n",
       "      <td>34</td>\n",
       "      <td>médio</td>\n",
       "      <td>evangélica</td>\n",
       "      <td>2500</td>\n",
       "    </tr>\n",
       "    <tr>\n",
       "      <th>2</th>\n",
       "      <td>3</td>\n",
       "      <td>feminino</td>\n",
       "      <td>27</td>\n",
       "      <td>superior</td>\n",
       "      <td>sem religião</td>\n",
       "      <td>3100</td>\n",
       "    </tr>\n",
       "    <tr>\n",
       "      <th>3</th>\n",
       "      <td>4</td>\n",
       "      <td>feminino</td>\n",
       "      <td>45</td>\n",
       "      <td>médio</td>\n",
       "      <td>católica</td>\n",
       "      <td>1800</td>\n",
       "    </tr>\n",
       "    <tr>\n",
       "      <th>4</th>\n",
       "      <td>5</td>\n",
       "      <td>masculino</td>\n",
       "      <td>51</td>\n",
       "      <td>fundamental</td>\n",
       "      <td>evangélica</td>\n",
       "      <td>2200</td>\n",
       "    </tr>\n",
       "    <tr>\n",
       "      <th>5</th>\n",
       "      <td>6</td>\n",
       "      <td>feminino</td>\n",
       "      <td>23</td>\n",
       "      <td>superior</td>\n",
       "      <td>evangélica</td>\n",
       "      <td>2700</td>\n",
       "    </tr>\n",
       "    <tr>\n",
       "      <th>6</th>\n",
       "      <td>7</td>\n",
       "      <td>masculino</td>\n",
       "      <td>38</td>\n",
       "      <td>médio</td>\n",
       "      <td>católica</td>\n",
       "      <td>3000</td>\n",
       "    </tr>\n",
       "    <tr>\n",
       "      <th>7</th>\n",
       "      <td>8</td>\n",
       "      <td>masculino</td>\n",
       "      <td>60</td>\n",
       "      <td>médio</td>\n",
       "      <td>sem religião</td>\n",
       "      <td>1500</td>\n",
       "    </tr>\n",
       "    <tr>\n",
       "      <th>8</th>\n",
       "      <td>9</td>\n",
       "      <td>feminino</td>\n",
       "      <td>29</td>\n",
       "      <td>superior</td>\n",
       "      <td>católica</td>\n",
       "      <td>4000</td>\n",
       "    </tr>\n",
       "    <tr>\n",
       "      <th>9</th>\n",
       "      <td>10</td>\n",
       "      <td>masculino</td>\n",
       "      <td>41</td>\n",
       "      <td>fundamental</td>\n",
       "      <td>outras</td>\n",
       "      <td>2000</td>\n",
       "    </tr>\n",
       "  </tbody>\n",
       "</table>\n",
       "</div>"
      ],
      "text/plain": [
       "   id       sexo  idade escolaridade      religiao  renda_mensal\n",
       "0   1   feminino     19  fundamental      católica          1200\n",
       "1   2  masculino     34        médio    evangélica          2500\n",
       "2   3   feminino     27     superior  sem religião          3100\n",
       "3   4   feminino     45        médio      católica          1800\n",
       "4   5  masculino     51  fundamental    evangélica          2200\n",
       "5   6   feminino     23     superior    evangélica          2700\n",
       "6   7  masculino     38        médio      católica          3000\n",
       "7   8  masculino     60        médio  sem religião          1500\n",
       "8   9   feminino     29     superior      católica          4000\n",
       "9  10  masculino     41  fundamental        outras          2000"
      ]
     },
     "execution_count": 3,
     "metadata": {},
     "output_type": "execute_result"
    }
   ],
   "source": [
    "dados = {\n",
    "    \"id\": range(1, 11),  # identificador do caso (1 a 10)\n",
    "    \"sexo\": [\"feminino\", \"masculino\", \"feminino\", \"feminino\", \"masculino\",\n",
    "             \"feminino\", \"masculino\", \"masculino\", \"feminino\", \"masculino\"],\n",
    "    \"idade\": [19, 34, 27, 45, 51, 23, 38, 60, 29, 41],\n",
    "    \"escolaridade\": [\"fundamental\", \"médio\", \"superior\", \"médio\", \"fundamental\",\n",
    "                     \"superior\", \"médio\", \"médio\", \"superior\", \"fundamental\"],\n",
    "    \"religiao\": [\"católica\", \"evangélica\", \"sem religião\", \"católica\", \"evangélica\",\n",
    "                 \"evangélica\", \"católica\", \"sem religião\", \"católica\", \"outras\"],\n",
    "    \"renda_mensal\": [1200, 2500, 3100, 1800, 2200, 2700, 3000, 1500, 4000, 2000]\n",
    "}\n",
    "\n",
    "df = pd.DataFrame(dados)\n",
    "df"
   ]
  },
  {
   "cell_type": "markdown",
   "id": "861a2a71",
   "metadata": {},
   "source": [
    "## Explorando o DataFrame"
   ]
  },
  {
   "cell_type": "markdown",
   "id": "aa915a14-20e3-46fd-a6b8-cc24987ffd1c",
   "metadata": {},
   "source": [
    "### Para ver as primeiras linhas"
   ]
  },
  {
   "cell_type": "code",
   "execution_count": 6,
   "id": "7489070f",
   "metadata": {},
   "outputs": [
    {
     "data": {
      "text/html": [
       "<div>\n",
       "<style scoped>\n",
       "    .dataframe tbody tr th:only-of-type {\n",
       "        vertical-align: middle;\n",
       "    }\n",
       "\n",
       "    .dataframe tbody tr th {\n",
       "        vertical-align: top;\n",
       "    }\n",
       "\n",
       "    .dataframe thead th {\n",
       "        text-align: right;\n",
       "    }\n",
       "</style>\n",
       "<table border=\"1\" class=\"dataframe\">\n",
       "  <thead>\n",
       "    <tr style=\"text-align: right;\">\n",
       "      <th></th>\n",
       "      <th>id</th>\n",
       "      <th>sexo</th>\n",
       "      <th>idade</th>\n",
       "      <th>escolaridade</th>\n",
       "      <th>religiao</th>\n",
       "      <th>renda_mensal</th>\n",
       "    </tr>\n",
       "  </thead>\n",
       "  <tbody>\n",
       "    <tr>\n",
       "      <th>0</th>\n",
       "      <td>1</td>\n",
       "      <td>feminino</td>\n",
       "      <td>19</td>\n",
       "      <td>fundamental</td>\n",
       "      <td>católica</td>\n",
       "      <td>1200</td>\n",
       "    </tr>\n",
       "    <tr>\n",
       "      <th>1</th>\n",
       "      <td>2</td>\n",
       "      <td>masculino</td>\n",
       "      <td>34</td>\n",
       "      <td>médio</td>\n",
       "      <td>evangélica</td>\n",
       "      <td>2500</td>\n",
       "    </tr>\n",
       "    <tr>\n",
       "      <th>2</th>\n",
       "      <td>3</td>\n",
       "      <td>feminino</td>\n",
       "      <td>27</td>\n",
       "      <td>superior</td>\n",
       "      <td>sem religião</td>\n",
       "      <td>3100</td>\n",
       "    </tr>\n",
       "    <tr>\n",
       "      <th>3</th>\n",
       "      <td>4</td>\n",
       "      <td>feminino</td>\n",
       "      <td>45</td>\n",
       "      <td>médio</td>\n",
       "      <td>católica</td>\n",
       "      <td>1800</td>\n",
       "    </tr>\n",
       "    <tr>\n",
       "      <th>4</th>\n",
       "      <td>5</td>\n",
       "      <td>masculino</td>\n",
       "      <td>51</td>\n",
       "      <td>fundamental</td>\n",
       "      <td>evangélica</td>\n",
       "      <td>2200</td>\n",
       "    </tr>\n",
       "  </tbody>\n",
       "</table>\n",
       "</div>"
      ],
      "text/plain": [
       "   id       sexo  idade escolaridade      religiao  renda_mensal\n",
       "0   1   feminino     19  fundamental      católica          1200\n",
       "1   2  masculino     34        médio    evangélica          2500\n",
       "2   3   feminino     27     superior  sem religião          3100\n",
       "3   4   feminino     45        médio      católica          1800\n",
       "4   5  masculino     51  fundamental    evangélica          2200"
      ]
     },
     "execution_count": 6,
     "metadata": {},
     "output_type": "execute_result"
    }
   ],
   "source": [
    "df.head()"
   ]
  },
  {
   "cell_type": "markdown",
   "id": "f40f2afb-3c72-4f2f-8741-a261722d5ae1",
   "metadata": {},
   "source": [
    "### Para ter informações gerais sobre o nome das variaveis "
   ]
  },
  {
   "cell_type": "code",
   "execution_count": 7,
   "id": "54649772-91ea-4439-bc01-0cb5e9aead30",
   "metadata": {},
   "outputs": [
    {
     "name": "stdout",
     "output_type": "stream",
     "text": [
      "<class 'pandas.core.frame.DataFrame'>\n",
      "RangeIndex: 10 entries, 0 to 9\n",
      "Data columns (total 6 columns):\n",
      " #   Column        Non-Null Count  Dtype \n",
      "---  ------        --------------  ----- \n",
      " 0   id            10 non-null     int64 \n",
      " 1   sexo          10 non-null     object\n",
      " 2   idade         10 non-null     int64 \n",
      " 3   escolaridade  10 non-null     object\n",
      " 4   religiao      10 non-null     object\n",
      " 5   renda_mensal  10 non-null     int64 \n",
      "dtypes: int64(3), object(3)\n",
      "memory usage: 608.0+ bytes\n"
     ]
    }
   ],
   "source": [
    "df.info()"
   ]
  },
  {
   "cell_type": "markdown",
   "id": "48e780d1-c808-49ac-bff8-b038f05e1a6d",
   "metadata": {},
   "source": [
    "### Para identifcar as categorias que compões uma variável categórica:"
   ]
  },
  {
   "cell_type": "code",
   "execution_count": 16,
   "id": "00596fef-5d32-4f01-883f-29674ee5ab57",
   "metadata": {},
   "outputs": [
    {
     "data": {
      "text/plain": [
       "['fundamental', 'médio', 'superior']"
      ]
     },
     "execution_count": 16,
     "metadata": {},
     "output_type": "execute_result"
    }
   ],
   "source": [
    "df[\"escolaridade\"].cat.categories.tolist()"
   ]
  },
  {
   "cell_type": "markdown",
   "id": "bf1a4cd8-109a-4bf3-a5ee-3b9d6f079b21",
   "metadata": {},
   "source": [
    "### Para saber quando Casos (N) tem em cada categoria"
   ]
  },
  {
   "cell_type": "code",
   "execution_count": 18,
   "id": "89b6edfd-6882-4495-97cc-eb3847f92e5a",
   "metadata": {},
   "outputs": [
    {
     "data": {
      "text/plain": [
       "escolaridade\n",
       "médio          4\n",
       "fundamental    3\n",
       "superior       3\n",
       "Name: count, dtype: int64"
      ]
     },
     "execution_count": 18,
     "metadata": {},
     "output_type": "execute_result"
    }
   ],
   "source": [
    "# Contagem de cada categoria (ordem decrescente por padrão)\n",
    "df[\"escolaridade\"].value_counts()"
   ]
  },
  {
   "cell_type": "code",
   "execution_count": 19,
   "id": "da2d8ab9-2b0a-4f0c-bb6b-37f5e2702ed1",
   "metadata": {},
   "outputs": [
    {
     "data": {
      "text/plain": [
       "escolaridade\n",
       "fundamental    3\n",
       "médio          4\n",
       "superior       3\n",
       "Name: count, dtype: int64"
      ]
     },
     "execution_count": 19,
     "metadata": {},
     "output_type": "execute_result"
    }
   ],
   "source": [
    "# Para manter a ordem das categorias definidas no .cat.categories\n",
    "df[\"escolaridade\"].value_counts(sort=False)"
   ]
  },
  {
   "cell_type": "markdown",
   "id": "87d77ea5-d156-457c-8706-1739d6ca3d98",
   "metadata": {},
   "source": [
    "### Para um resumo das variávies quantitativas"
   ]
  },
  {
   "cell_type": "code",
   "execution_count": 20,
   "id": "83b522b8-9088-4a72-b973-fafe778253d7",
   "metadata": {},
   "outputs": [
    {
     "data": {
      "text/html": [
       "<div>\n",
       "<style scoped>\n",
       "    .dataframe tbody tr th:only-of-type {\n",
       "        vertical-align: middle;\n",
       "    }\n",
       "\n",
       "    .dataframe tbody tr th {\n",
       "        vertical-align: top;\n",
       "    }\n",
       "\n",
       "    .dataframe thead th {\n",
       "        text-align: right;\n",
       "    }\n",
       "</style>\n",
       "<table border=\"1\" class=\"dataframe\">\n",
       "  <thead>\n",
       "    <tr style=\"text-align: right;\">\n",
       "      <th></th>\n",
       "      <th>idade</th>\n",
       "      <th>renda_mensal</th>\n",
       "    </tr>\n",
       "  </thead>\n",
       "  <tbody>\n",
       "    <tr>\n",
       "      <th>count</th>\n",
       "      <td>10.000000</td>\n",
       "      <td>10.000000</td>\n",
       "    </tr>\n",
       "    <tr>\n",
       "      <th>mean</th>\n",
       "      <td>36.700000</td>\n",
       "      <td>2400.000000</td>\n",
       "    </tr>\n",
       "    <tr>\n",
       "      <th>std</th>\n",
       "      <td>12.901766</td>\n",
       "      <td>837.987006</td>\n",
       "    </tr>\n",
       "    <tr>\n",
       "      <th>min</th>\n",
       "      <td>19.000000</td>\n",
       "      <td>1200.000000</td>\n",
       "    </tr>\n",
       "    <tr>\n",
       "      <th>25%</th>\n",
       "      <td>27.500000</td>\n",
       "      <td>1850.000000</td>\n",
       "    </tr>\n",
       "    <tr>\n",
       "      <th>50%</th>\n",
       "      <td>36.000000</td>\n",
       "      <td>2350.000000</td>\n",
       "    </tr>\n",
       "    <tr>\n",
       "      <th>75%</th>\n",
       "      <td>44.000000</td>\n",
       "      <td>2925.000000</td>\n",
       "    </tr>\n",
       "    <tr>\n",
       "      <th>max</th>\n",
       "      <td>60.000000</td>\n",
       "      <td>4000.000000</td>\n",
       "    </tr>\n",
       "  </tbody>\n",
       "</table>\n",
       "</div>"
      ],
      "text/plain": [
       "           idade  renda_mensal\n",
       "count  10.000000     10.000000\n",
       "mean   36.700000   2400.000000\n",
       "std    12.901766    837.987006\n",
       "min    19.000000   1200.000000\n",
       "25%    27.500000   1850.000000\n",
       "50%    36.000000   2350.000000\n",
       "75%    44.000000   2925.000000\n",
       "max    60.000000   4000.000000"
      ]
     },
     "execution_count": 20,
     "metadata": {},
     "output_type": "execute_result"
    }
   ],
   "source": [
    "df[[\"idade\", \"renda_mensal\"]].describe()"
   ]
  },
  {
   "cell_type": "markdown",
   "id": "8f3f518f",
   "metadata": {
    "tags": []
   },
   "source": [
    "\n",
    "## Tipos de dados no Pandas  (`dtypes`) e conversões úteis\n",
    "\n",
    "- `object` geralmente significa **texto** (strings).\n",
    "- Para variáveis categóricas, vale a pena usar `category`.\n",
    "- Para garantir a ordem de categorias (fundamental < médio < superior), definimos `ordered=True`.\n"
   ]
  },
  {
   "cell_type": "markdown",
   "id": "0b86e67f-61fd-41fc-ae2b-697111527357",
   "metadata": {},
   "source": [
    "### 1. **Números Inteiros (int)**"
   ]
  },
  {
   "cell_type": "code",
   "execution_count": 8,
   "id": "68841307-2944-42b3-a220-20da3dcdab9d",
   "metadata": {},
   "outputs": [
    {
     "name": "stdout",
     "output_type": "stream",
     "text": [
      "<class 'int'>\n"
     ]
    }
   ],
   "source": [
    "numero_de_filhos = 2\n",
    "ano_nascimento = 1995\n",
    "votos_recebidos = 12450\n",
    "\n",
    "print(type(numero_de_filhos))"
   ]
  },
  {
   "cell_type": "markdown",
   "id": "34fb5eaa-1813-4b85-a93e-bce6258476c5",
   "metadata": {},
   "source": [
    "### 2. **Números Decimais (float)**"
   ]
  },
  {
   "cell_type": "code",
   "execution_count": 9,
   "id": "378aafc7-a550-4f69-a038-e1601878076c",
   "metadata": {},
   "outputs": [
    {
     "name": "stdout",
     "output_type": "stream",
     "text": [
      "<class 'float'>\n"
     ]
    }
   ],
   "source": [
    "salario = 3500.50\n",
    "percentual_aprovacao = 67.3\n",
    "temperatura = 23.5\n",
    "print(type(salario))"
   ]
  },
  {
   "cell_type": "markdown",
   "id": "a753c3de-59b5-458b-90e2-a1fa9340c3c2",
   "metadata": {},
   "source": [
    "### 3. **Texto (string)**"
   ]
  },
  {
   "cell_type": "code",
   "execution_count": 10,
   "id": "782c594f-e2ae-4520-8144-a145ce5129e8",
   "metadata": {},
   "outputs": [
    {
     "name": "stdout",
     "output_type": "stream",
     "text": [
      "<class 'str'>\n"
     ]
    }
   ],
   "source": [
    "nome_candidato = \"João da Silva\"\n",
    "partido = \"PSDB\"\n",
    "profissao = \"Professor\"\n",
    "\n",
    "# Strings usam aspas simples ' ' ou duplas \" \"\n",
    "print(type(nome_candidato))"
   ]
  },
  {
   "cell_type": "markdown",
   "id": "cdafd309-2d26-465c-b4d5-eacc74c3cbf7",
   "metadata": {},
   "source": [
    "### 4. **Verdadeiro/Falso (boolean)**"
   ]
  },
  {
   "cell_type": "code",
   "execution_count": 11,
   "id": "8e7581dc-0cfb-42a7-bc46-4d263fea1a31",
   "metadata": {},
   "outputs": [
    {
     "name": "stdout",
     "output_type": "stream",
     "text": [
      "<class 'bool'>\n"
     ]
    }
   ],
   "source": [
    "eh_eleito = True\n",
    "teve_segundo_turno = False\n",
    "campanha_ativa = True\n",
    "\n",
    "print(type(eh_eleito)) "
   ]
  },
  {
   "cell_type": "markdown",
   "id": "0fd922d1-235e-484e-9e9f-a15bc95c23b3",
   "metadata": {
    "tags": []
   },
   "source": [
    "### 5. **Categóricas**"
   ]
  },
  {
   "cell_type": "code",
   "execution_count": 13,
   "id": "60b04539-72d3-40aa-8a8a-0fbcddb1791d",
   "metadata": {},
   "outputs": [
    {
     "name": "stdout",
     "output_type": "stream",
     "text": [
      "<class 'pandas.core.series.Series'>\n",
      "0      Deputado\n",
      "1      Prefeito\n",
      "2       Senador\n",
      "3      Deputado\n",
      "4    Governador\n",
      "dtype: category\n",
      "Categories (4, object): ['Deputado', 'Governador', 'Prefeito', 'Senador']\n"
     ]
    }
   ],
   "source": [
    "# Exemplo de variável categórica: cargo político\n",
    "cargos = [\"Vereador\", \"Deputado\", \"Senador\", \"Prefeito\", \"Governador\"]\n",
    "\n",
    "# Criamos uma Series do pandas com tipo 'category'\n",
    "cargo_eleito = pd.Series([\"Deputado\", \"Prefeito\", \"Senador\", \"Deputado\", \"Governador\"],\n",
    "                         dtype=\"category\")\n",
    "\n",
    "print(type(cargo_eleito))\n",
    "\n",
    "print(cargo_eleito)"
   ]
  },
  {
   "cell_type": "markdown",
   "id": "5e3b0eb3-e1db-44ca-a778-5b2d5af5ae54",
   "metadata": {},
   "source": [
    "### 💡 Diferença entre object e categoric:\n",
    "\n",
    "Quando usar cada um\n",
    "\n",
    "- Use object: quando os valores são texto livre, nomes, descrições ou qualquer coisa sem número fixo de possibilidades.\n",
    "\n",
    "- Use category: quando existe um número limitado de valores distintos e eles têm significado de categorias (sexo, estado civil, escolaridade, partido político, etc.).\n",
    "\n"
   ]
  },
  {
   "cell_type": "markdown",
   "id": "b8cfebb5-397e-4f5d-9067-050f60c8d06c",
   "metadata": {},
   "source": [
    "### Tornar algumas variáveis categóricas"
   ]
  },
  {
   "cell_type": "code",
   "execution_count": 14,
   "id": "f2022b81",
   "metadata": {},
   "outputs": [
    {
     "data": {
      "text/plain": [
       "id                 int64\n",
       "sexo            category\n",
       "idade              int64\n",
       "escolaridade    category\n",
       "religiao        category\n",
       "renda_mensal       int64\n",
       "dtype: object"
      ]
     },
     "execution_count": 14,
     "metadata": {},
     "output_type": "execute_result"
    }
   ],
   "source": [
    "df[\"sexo\"] = df[\"sexo\"].astype(\"category\")\n",
    "df[\"religiao\"] = df[\"religiao\"].astype(\"category\")\n",
    "df[\"escolaridade\"] = pd.Categorical(df[\"escolaridade\"],\n",
    "                                    categories=[\"fundamental\", \"médio\", \"superior\"],\n",
    "                                    ordered=True)\n",
    "\n",
    "df.dtypes"
   ]
  },
  {
   "cell_type": "markdown",
   "id": "0a65f52e",
   "metadata": {},
   "source": [
    "## Resumos numéricos"
   ]
  },
  {
   "cell_type": "code",
   "execution_count": 7,
   "id": "dc4e41fd",
   "metadata": {},
   "outputs": [
    {
     "data": {
      "text/html": [
       "<div>\n",
       "<style scoped>\n",
       "    .dataframe tbody tr th:only-of-type {\n",
       "        vertical-align: middle;\n",
       "    }\n",
       "\n",
       "    .dataframe tbody tr th {\n",
       "        vertical-align: top;\n",
       "    }\n",
       "\n",
       "    .dataframe thead th {\n",
       "        text-align: right;\n",
       "    }\n",
       "</style>\n",
       "<table border=\"1\" class=\"dataframe\">\n",
       "  <thead>\n",
       "    <tr style=\"text-align: right;\">\n",
       "      <th></th>\n",
       "      <th>idade</th>\n",
       "      <th>renda_mensal</th>\n",
       "    </tr>\n",
       "  </thead>\n",
       "  <tbody>\n",
       "    <tr>\n",
       "      <th>count</th>\n",
       "      <td>10.000000</td>\n",
       "      <td>10.000000</td>\n",
       "    </tr>\n",
       "    <tr>\n",
       "      <th>mean</th>\n",
       "      <td>36.700000</td>\n",
       "      <td>2400.000000</td>\n",
       "    </tr>\n",
       "    <tr>\n",
       "      <th>std</th>\n",
       "      <td>12.901766</td>\n",
       "      <td>837.987006</td>\n",
       "    </tr>\n",
       "    <tr>\n",
       "      <th>min</th>\n",
       "      <td>19.000000</td>\n",
       "      <td>1200.000000</td>\n",
       "    </tr>\n",
       "    <tr>\n",
       "      <th>25%</th>\n",
       "      <td>27.500000</td>\n",
       "      <td>1850.000000</td>\n",
       "    </tr>\n",
       "    <tr>\n",
       "      <th>50%</th>\n",
       "      <td>36.000000</td>\n",
       "      <td>2350.000000</td>\n",
       "    </tr>\n",
       "    <tr>\n",
       "      <th>75%</th>\n",
       "      <td>44.000000</td>\n",
       "      <td>2925.000000</td>\n",
       "    </tr>\n",
       "    <tr>\n",
       "      <th>max</th>\n",
       "      <td>60.000000</td>\n",
       "      <td>4000.000000</td>\n",
       "    </tr>\n",
       "  </tbody>\n",
       "</table>\n",
       "</div>"
      ],
      "text/plain": [
       "           idade  renda_mensal\n",
       "count  10.000000     10.000000\n",
       "mean   36.700000   2400.000000\n",
       "std    12.901766    837.987006\n",
       "min    19.000000   1200.000000\n",
       "25%    27.500000   1850.000000\n",
       "50%    36.000000   2350.000000\n",
       "75%    44.000000   2925.000000\n",
       "max    60.000000   4000.000000"
      ]
     },
     "execution_count": 7,
     "metadata": {},
     "output_type": "execute_result"
    }
   ],
   "source": [
    "# Estatísticas descritivas para variáveis numéricas\n",
    "df[[\"idade\", \"renda_mensal\"]].describe()"
   ]
  }
 ],
 "metadata": {
  "kernelspec": {
   "display_name": "Python 3 (ipykernel)",
   "language": "python",
   "name": "python3"
  },
  "language_info": {
   "codemirror_mode": {
    "name": "ipython",
    "version": 3
   },
   "file_extension": ".py",
   "mimetype": "text/x-python",
   "name": "python",
   "nbconvert_exporter": "python",
   "pygments_lexer": "ipython3",
   "version": "3.9.13"
  }
 },
 "nbformat": 4,
 "nbformat_minor": 5
}
