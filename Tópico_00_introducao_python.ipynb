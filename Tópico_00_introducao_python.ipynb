{
 "cells": [
  {
   "cell_type": "markdown",
   "id": "de10b7e1-af84-4493-b1ed-6f80f64c5f9c",
   "metadata": {},
   "source": [
    "\n",
    "# Introdução ao Python e ao Jupyter\n"
   ]
  },
  {
   "cell_type": "markdown",
   "id": "0d07487f-23c0-4280-9941-576d930687e3",
   "metadata": {},
   "source": [
    "## 🎯 Objetivo \n",
    "\n",
    "Familiarizar os alunos e alunas com o ambiente Jupyter e conceitos básicos de Python aplicados à pesquisa social.\n"
   ]
  },
  {
   "cell_type": "markdown",
   "id": "1fc92569-a9ee-4c53-9ec8-9fe9ef321f5c",
   "metadata": {},
   "source": [
    "# Apresentação\n",
    "\n",
    "### Quem já teve essas experiências?\n",
    "- 📊 Passar horas organizando dados no Excel?\n",
    "- 🔄 Repetir os mesmos cálculos várias vezes?\n",
    "- 😤 Perder trabalho porque \"o arquivo corrompeu\"?\n",
    "- 📈 Querer fazer gráficos mais bonitos e informativos?\n",
    "- 🔍 Trabalhar com bases de dados muito grandes?\n",
    "\n",
    "**Python resolve todos esses problemas!**\n"
   ]
  },
  {
   "cell_type": "markdown",
   "id": "88b64788-3bd9-40d0-9f5b-96ea5482b26c",
   "metadata": {},
   "source": [
    "# Por que Python na Pesquisa Social? \n",
    "\n",
    "## 🐍 O que é Python?\n",
    "\n",
    "Python é uma linguagem de programação criada em 1991 por Guido van Rossum. O nome vem do grupo de comédia britânico \"Monty Python\" - não da cobra! 🎭\n",
    "\n",
    "### Características principais:\n",
    "- **Simplicidade**: Sintaxe próxima ao inglês\n",
    "- **Versatilidade**: Serve para análise de dados, websites, inteligência artificial...\n",
    "- **Comunidade**: Milhões de usuários no mundo todo\n",
    "- **Gratuito**: Software livre e de código aberto\n",
    "\n",
    "## 📚 Python vs. outras ferramentas\n",
    "\n",
    "| Ferramenta | Prós | Contras |\n",
    "|------------|------|---------|\n",
    "| **Excel** | Fácil de usar, visual | Limitado para dados grandes, repetitivo |\n",
    "| **SPSS** | Interface amigável | Caro, menos flexível |\n",
    "| **R** | Feito para estatística | Curva de aprendizado íngreme |\n",
    "| **Python** | Versatil, gratuito, grande comunidade | Requer programação básica |\n"
   ]
  },
  {
   "cell_type": "markdown",
   "id": "47e3d0e1-2855-46e3-9c80-cfd1ad6d392f",
   "metadata": {
    "tags": []
   },
   "source": [
    "## 🎯 Python na Pesquisa Social - Exemplos Reais\n",
    "\n",
    "### 1. **Análise de Mídias Sociais**\n",
    "```python\n",
    "# Exemplo: Analisar sentimentos sobre candidatos no Twitter\n",
    "tweets_candidato_a = [\"Gosto muito da proposta\", \"Não concordo\", \"Excelente debate\"]\n",
    "# Python pode processar milhares de tweets automaticamente\n",
    "```\n",
    "\n",
    "### 2. **Dados Eleitorais**\n",
    "```python\n",
    "# Exemplo: Analisar resultados por município\n",
    "municipios = [\"Rio de Janeiro\", \"São Paulo\", \"Belo Horizonte\"]\n",
    "votos_candidato = [1200000, 2100000, 450000]\n",
    "# Calcular percentuais, fazer mapas, identificar padrões\n",
    "```\n",
    "\n",
    "### 3. **Pesquisas de Opinião**\n",
    "```python\n",
    "# Exemplo: Processar respostas de survey\n",
    "idades = [25, 34, 45, 23, 67, 29, 41]\n",
    "satisfacao = [8, 6, 9, 7, 5, 8, 9]\n",
    "# Calcular médias, fazer gráficos, cruzar variáveis\n",
    "```"
   ]
  },
  {
   "cell_type": "markdown",
   "id": "95a9e487-c71c-44eb-938d-00c19aeefeee",
   "metadata": {},
   "source": [
    "# Navegando no Jupyter Notebook "
   ]
  },
  {
   "cell_type": "markdown",
   "id": "b4a82c68-2191-4b04-8aac-d163244bdf28",
   "metadata": {},
   "source": [
    " ## 🚀 O que é o Jupyter Notebook?\n",
    "\n",
    "O Jupyter é um ambiente onde podemos:\n",
    "- ✍️ Escrever texto explicativo\n",
    "- 💻 Executar código Python\n",
    "- 📊 Ver gráficos e tabelas\n",
    "- 📝 Documentar todo o processo\n",
    "\n",
    "**Pense nele como um \"caderno de laboratório digital\"!**\n",
    "\n",
    "## 🧭 Navegação Básica\n",
    "\n",
    "### Interface Principal:\n",
    "- **Barra de ferramentas**: Salvar, adicionar células, executar\n",
    "- **Células**: Blocos onde escrevemos código ou texto\n",
    "- **Kernel**: O \"motor\" que executa o Python"
   ]
  },
  {
   "cell_type": "markdown",
   "id": "bc801ad7-d6a7-446e-8308-cd9c7b28c889",
   "metadata": {},
   "source": [
    "### Tipos de Células:"
   ]
  },
  {
   "cell_type": "markdown",
   "id": "d13151db-223d-4010-bd01-0a3f8b3a8f07",
   "metadata": {},
   "source": [
    "#### 1. **Células de Código** (Code)\n"
   ]
  },
  {
   "cell_type": "code",
   "execution_count": 5,
   "id": "c54aa9f5-71c8-4acd-871c-105d3dd1452b",
   "metadata": {},
   "outputs": [
    {
     "name": "stdout",
     "output_type": "stream",
     "text": [
      "Olá, mundo!\n"
     ]
    },
    {
     "data": {
      "text/plain": [
       "4"
      ]
     },
     "execution_count": 5,
     "metadata": {},
     "output_type": "execute_result"
    }
   ],
   "source": [
    "# Aqui escrevemos Python\n",
    "print(\"Olá, mundo!\")\n",
    "2 + 2"
   ]
  },
  {
   "cell_type": "markdown",
   "id": "1ef5a2cd-a5cb-4966-a692-02c6b23bd39e",
   "metadata": {},
   "source": [
    "#### 2. **Células de Texto** (Markdown)"
   ]
  },
  {
   "cell_type": "markdown",
   "id": "cf9964c2-3f6a-4604-aaff-d1544c9f1f97",
   "metadata": {},
   "source": [
    "# Título Principal\n",
    "## Subtítulo\n",
    "\n",
    "**Negrito** e *itálico*\n",
    "\n",
    "- Lista\n",
    "- De\n",
    "- Itens"
   ]
  },
  {
   "cell_type": "markdown",
   "id": "6ba2993e-317b-46b1-9179-c6dd961d0796",
   "metadata": {},
   "source": [
    "## ⌨️ Atalhos Importantes:\n",
    "- **Shift + Enter**: Executar célula\n",
    "- **Ctrl + Enter**: Executar célula sem sair dela\n",
    "- **A**: Adicionar célula acima\n",
    "- **B**: Adicionar célula abaixo\n",
    "- **DD**: Deletar célula\n",
    "- **M**: Transformar em Markdown\n",
    "- **Y**: Transformar em Code\n"
   ]
  },
  {
   "cell_type": "markdown",
   "id": "67d382f0-1e15-4ea7-ad0f-36e074899aab",
   "metadata": {},
   "source": [
    "## 🎨 Markdown Básico"
   ]
  },
  {
   "cell_type": "markdown",
   "id": "f7e3b915-ac8f-40ea-b6b5-3c41be93440b",
   "metadata": {},
   "source": [
    "# Título Nível 1\n",
    "## Título Nível 2\n",
    "### Título Nível 3\n",
    "\n",
    "**Texto em negrito**\n",
    "*Texto em itálico*M\n",
    "\n",
    "- Item 1\n",
    "- Item 2\n",
    "- Item 3\n",
    "\n",
    "1. Primeiro\n",
    "2. Segundo\n",
    "3. Terceiro\n",
    "\n",
    "[Link para um site](https://www.google.com)"
   ]
  },
  {
   "cell_type": "markdown",
   "id": "8a931e93-0c89-4652-8f67-09ebfb6f5710",
   "metadata": {},
   "source": [
    "# Variáveis e Tipos de Dados Básicos \n",
    "\n",
    "## 📦 O que são Variáveis?\n",
    "\n",
    "Variáveis são \"caixas\" onde guardamos informações para usar depois."
   ]
  },
  {
   "cell_type": "code",
   "execution_count": 1,
   "id": "cadfeba0-7fcd-4db4-97e9-55be194569e1",
   "metadata": {},
   "outputs": [],
   "source": [
    "# Criando variáveis\n",
    "nome = \"Maria Silva\"\n",
    "idade = 25\n",
    "altura = 1.65\n",
    "eh_estudante = True"
   ]
  },
  {
   "cell_type": "markdown",
   "id": "04b67ffd-27f9-400e-b16d-2250781d8fc2",
   "metadata": {},
   "source": [
    "**Em Python, não precisamos declarar o tipo da variável!**\n"
   ]
  },
  {
   "cell_type": "markdown",
   "id": "0350700c-f319-41ca-a550-6f8f68539a56",
   "metadata": {},
   "source": [
    "## 🔢 Tipos de Dados Fundamentais\n",
    "\n",
    "### 1. **Números Inteiros (int)**"
   ]
  },
  {
   "cell_type": "code",
   "execution_count": 13,
   "id": "53466536-16fc-4ea3-98cf-25914e7fca10",
   "metadata": {
    "tags": []
   },
   "outputs": [
    {
     "name": "stdout",
     "output_type": "stream",
     "text": [
      "<class 'int'>\n"
     ]
    }
   ],
   "source": [
    "numero_de_filhos = 2\n",
    "ano_nascimento = 1995\n",
    "votos_recebidos = 12450\n",
    "\n",
    "print(type(numero_de_filhos))"
   ]
  },
  {
   "cell_type": "markdown",
   "id": "86c1fc43-ed80-4369-abd7-e455f8afbc40",
   "metadata": {},
   "source": [
    "### 2. **Números Decimais (float)**"
   ]
  },
  {
   "cell_type": "code",
   "execution_count": 15,
   "id": "d9eb10fb-10eb-470b-8e8d-8a37a5034af1",
   "metadata": {},
   "outputs": [
    {
     "name": "stdout",
     "output_type": "stream",
     "text": [
      "<class 'float'>\n"
     ]
    }
   ],
   "source": [
    "salario = 3500.50\n",
    "percentual_aprovacao = 67.3\n",
    "temperatura = 23.5\n",
    "print(type(salario))"
   ]
  },
  {
   "cell_type": "markdown",
   "id": "576c2c51-deec-42cb-8cee-5aa6c753e690",
   "metadata": {},
   "source": [
    "### 3. **Texto (string)**"
   ]
  },
  {
   "cell_type": "code",
   "execution_count": 17,
   "id": "281bb701-f78d-4c99-a13a-0b2d38a744b2",
   "metadata": {},
   "outputs": [
    {
     "name": "stdout",
     "output_type": "stream",
     "text": [
      "<class 'str'>\n"
     ]
    }
   ],
   "source": [
    "nome_candidato = \"João da Silva\"\n",
    "partido = \"PSDB\"\n",
    "profissao = \"Professor\"\n",
    "\n",
    "# Strings usam aspas simples ' ' ou duplas \" \"\n",
    "print(type(nome_candidato))"
   ]
  },
  {
   "cell_type": "markdown",
   "id": "fd44f2c4-cbf3-4a7b-9cff-e817c8b57b19",
   "metadata": {},
   "source": [
    "### 4. **Verdadeiro/Falso (boolean)**"
   ]
  },
  {
   "cell_type": "code",
   "execution_count": 19,
   "id": "10f5399c-cc51-4baf-b1fe-3966de9353a6",
   "metadata": {},
   "outputs": [
    {
     "name": "stdout",
     "output_type": "stream",
     "text": [
      "<class 'bool'>\n"
     ]
    }
   ],
   "source": [
    "eh_eleito = True\n",
    "teve_segundo_turno = False\n",
    "campanha_ativa = True\n",
    "\n",
    "print(type(eh_eleito)) "
   ]
  },
  {
   "cell_type": "markdown",
   "id": "81b4de3f-0ede-46c7-8f65-2c5afdd8c8a3",
   "metadata": {},
   "source": [
    "### Operações Matemáticas:"
   ]
  },
  {
   "cell_type": "code",
   "execution_count": 21,
   "id": "9dd97eea-638d-4954-a207-954be91d44d5",
   "metadata": {},
   "outputs": [
    {
     "name": "stdout",
     "output_type": "stream",
     "text": [
      "Total de votos: 2700\n",
      "Percentual do candidato A: 55.6%\n"
     ]
    }
   ],
   "source": [
    "# Números\n",
    "votos_a = 1500\n",
    "votos_b = 1200\n",
    "\n",
    "total_votos = votos_a + votos_b\n",
    "diferenca = votos_a - votos_b\n",
    "percentual_a = (votos_a / total_votos) * 100\n",
    "\n",
    "print(f\"Total de votos: {total_votos}\")\n",
    "print(f\"Percentual do candidato A: {percentual_a:.1f}%\")"
   ]
  },
  {
   "cell_type": "markdown",
   "id": "8a07e38e-f96d-4494-8d0b-e019c1411be0",
   "metadata": {},
   "source": [
    "### Operações com Texto:"
   ]
  },
  {
   "cell_type": "code",
   "execution_count": 22,
   "id": "37745471-949a-4b98-8ace-cac683f06260",
   "metadata": {
    "tags": []
   },
   "outputs": [
    {
     "name": "stdout",
     "output_type": "stream",
     "text": [
      "Ana Costa\n",
      "A candidata Ana Costa tem 30 anos\n"
     ]
    }
   ],
   "source": [
    "nome = \"Ana\"\n",
    "sobrenome = \"Costa\"\n",
    "nome_completo = nome + \" \" + sobrenome\n",
    "\n",
    "print(nome_completo)  # Ana Costa\n",
    "\n",
    "# Formatação moderna (f-strings)\n",
    "idade = 30\n",
    "mensagem = f\"A candidata {nome_completo} tem {idade} anos\"\n",
    "print(mensagem)"
   ]
  },
  {
   "cell_type": "markdown",
   "id": "7c17bb76-48a4-44a3-9db1-8318d6eca6c1",
   "metadata": {},
   "source": [
    "#### 🎯 Exemplos Práticos para Pesquisa Social\n",
    "\n",
    "#### Perfil de Entrevistado"
   ]
  },
  {
   "cell_type": "code",
   "execution_count": 24,
   "id": "17194e35-6c5f-49fc-a3a0-b61d96b6b076",
   "metadata": {},
   "outputs": [
    {
     "name": "stdout",
     "output_type": "stream",
     "text": [
      "Entrevistado: Carlos Silva, 42 anos, Superior, R$ 5500.00\n"
     ]
    }
   ],
   "source": [
    "nome = \"Carlos\"\n",
    "sobrenome = \"Silva\" \n",
    "idade = 42\n",
    "escolaridade = \"Superior\"\n",
    "renda = 5500.00\n",
    "\n",
    "# F-string completa\n",
    "perfil = f\"Entrevistado: {nome} {sobrenome}, {idade} anos, {escolaridade}, R$ {renda:.2f}\"\n",
    "print(perfil)"
   ]
  },
  {
   "cell_type": "markdown",
   "id": "1d039391-089d-4618-b087-6f91b26c9242",
   "metadata": {},
   "source": [
    "###  📋 Listas - Guardando Vários Valores"
   ]
  },
  {
   "cell_type": "code",
   "execution_count": 26,
   "id": "a06a14e3-a08e-4425-97ec-cc922c0447b8",
   "metadata": {},
   "outputs": [
    {
     "name": "stdout",
     "output_type": "stream",
     "text": [
      "[25, 34, 45, 23, 67, 29, 41]\n",
      "['PT', 'PSDB', 'PMDB', 'PSB']\n"
     ]
    }
   ],
   "source": [
    "# Lista de idades de entrevistados\n",
    "idades = [25, 34, 45, 23, 67, 29, 41]\n",
    "\n",
    "# Lista de partidos\n",
    "partidos = [\"PT\", \"PSDB\", \"PMDB\", \"PSB\"]\n",
    "\n",
    "# Lista mista (não recomendado, mas possível)\n",
    "dados_mistos = [\"João\", 45, True, 1250.50]\n",
    "\n",
    "print(idades)\n",
    "print(partidos)"
   ]
  },
  {
   "cell_type": "markdown",
   "id": "e3d91db8-0c74-4817-b42d-c8b8fe461ad8",
   "metadata": {},
   "source": [
    "## 📋 Resumo \n",
    "\n",
    "### ✅ O que aprendemos hoje:\n",
    "1. **Python** é uma ferramenta poderosa para pesquisa social\n",
    "2. **Jupyter Notebook** combina código, texto e visualizações\n",
    "3. **Markdown** formata texto de maneira simples\n",
    "4. **Variáveis** guardam diferentes tipos de dados\n",
    "5. **Listas** organizam múltiplos valores\n",
    "6. **Operações básicas** permitem análises simples"
   ]
  }
 ],
 "metadata": {
  "kernelspec": {
   "display_name": "Python 3 (ipykernel)",
   "language": "python",
   "name": "python3"
  },
  "language_info": {
   "codemirror_mode": {
    "name": "ipython",
    "version": 3
   },
   "file_extension": ".py",
   "mimetype": "text/x-python",
   "name": "python",
   "nbconvert_exporter": "python",
   "pygments_lexer": "ipython3",
   "version": "3.9.13"
  }
 },
 "nbformat": 4,
 "nbformat_minor": 5
}
