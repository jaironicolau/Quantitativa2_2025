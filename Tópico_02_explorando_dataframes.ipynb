{
 "cells": [
  {
   "cell_type": "markdown",
   "id": "96458177-7ee2-4485-bd6e-ced4b3ccd6f5",
   "metadata": {},
   "source": [
    "## Aula 2: Explorando dataframa e medidas de tendência central"
   ]
  },
  {
   "cell_type": "markdown",
   "id": "f1a3ecb1",
   "metadata": {
    "tags": []
   },
   "source": [
    "##  Parte 1 — Explorando DataFrames (CSV) + Estatística Descritiva**\n",
    "\n",
    "**Objetivos da aula**  \n",
    "- Ler um arquivo **CSV** com `pandas` e entender a estrutura de um **DataFrame**.  \n",
    "- Usar métodos básicos de inspeção: `.head()`, `.tail()`, `.info()`, `.shape`, `.dtypes`, `.describe()`.  \n",
    "- Explorar **tipos de variáveis** (numéricas, categóricas) e **valores ausentes**.  \n",
    "- Fazer **estatística descritiva** simples (médias, proporções, tabelas cruzadas).  \n",
    "- Produzir **gráficos básicos** de frequências e médias por grupo.\n"
   ]
  },
  {
   "cell_type": "markdown",
   "id": "5a3bfd51",
   "metadata": {},
   "source": [
    "\n",
    "# O que é um arquivo CSV?\n",
    "\n",
    "CSV significa **Comma-Separated Values** (valores separados por vírgula). É um formato **de texto simples** em que:\n",
    "- cada **linha** é um registro (uma observação);\n",
    "- cada **coluna** é uma variável;\n",
    "- os valores em cada linha são separados por **vírgula** (ou, às vezes, ponto e vírgula).\n",
    "\n",
    "Exemplo de três registros com quatro variáveis:\n",
    "\n",
    "```\n",
    "id,sexo,idade,renda\n",
    "1,feminino,23,1500\n",
    "2,masculino,45,2800\n",
    "3,feminino,60,2200\n",
    "```\n",
    "\n",
    "Por que usamos CSV?\n",
    "- É **amplamente compatível** (abre no Excel, Google Sheets, R, Python, Stata, SPSS etc.).\n",
    "- É **leve** e simples para compartilhar.\n",
    "- Facilita a **importação** e **exportação** entre ferramentas.\n"
   ]
  },
  {
   "cell_type": "markdown",
   "id": "743eec1d",
   "metadata": {},
   "source": [
    "\n",
    "## 0) Preparação do ambiente\n",
    "Se você estiver no **Google Colab**, rode a célula abaixo para instalar/atualizar pacotes (opcional).\n"
   ]
  },
  {
   "cell_type": "code",
   "execution_count": 1,
   "id": "2f2b08fc",
   "metadata": {},
   "outputs": [
    {
     "name": "stderr",
     "output_type": "stream",
     "text": [
      "/opt/anaconda3/lib/python3.9/site-packages/pandas/core/computation/expressions.py:21: UserWarning: Pandas requires version '2.8.4' or newer of 'numexpr' (version '2.8.3' currently installed).\n",
      "  from pandas.core.computation.check import NUMEXPR_INSTALLED\n",
      "/opt/anaconda3/lib/python3.9/site-packages/pandas/core/arrays/masked.py:61: UserWarning: Pandas requires version '1.3.6' or newer of 'bottleneck' (version '1.3.5' currently installed).\n",
      "  from pandas.core import (\n"
     ]
    }
   ],
   "source": [
    "import pandas as pd\n",
    "import numpy as np\n",
    "import matplotlib.pyplot as plt\n",
    "\n",
    "pd.set_option('display.max_columns', 50)\n",
    "pd.set_option('display.precision', 2)\n"
   ]
  },
  {
   "cell_type": "markdown",
   "id": "bb38339d",
   "metadata": {},
   "source": [
    "\n",
    "## 1) Obtendo um CSV para trabalhar\n",
    "Para esta aula, usaremos um **CSV sintético de pesquisa** com 300 linhas, já incluído aqui como `pesquisa_exemplo.csv`.\n",
    "\n",
    "Se estiver no Colab, você pode **enviar** um CSV seu (`Upload`) ou usar este arquivo de exemplo.\n"
   ]
  },
  {
   "cell_type": "code",
   "execution_count": 3,
   "id": "9b6c7c9b",
   "metadata": {},
   "outputs": [
    {
     "data": {
      "text/html": [
       "<div>\n",
       "<style scoped>\n",
       "    .dataframe tbody tr th:only-of-type {\n",
       "        vertical-align: middle;\n",
       "    }\n",
       "\n",
       "    .dataframe tbody tr th {\n",
       "        vertical-align: top;\n",
       "    }\n",
       "\n",
       "    .dataframe thead th {\n",
       "        text-align: right;\n",
       "    }\n",
       "</style>\n",
       "<table border=\"1\" class=\"dataframe\">\n",
       "  <thead>\n",
       "    <tr style=\"text-align: right;\">\n",
       "      <th></th>\n",
       "      <th>id</th>\n",
       "      <th>sexo</th>\n",
       "      <th>fx_etaria</th>\n",
       "      <th>escolaridade</th>\n",
       "      <th>uf</th>\n",
       "      <th>renda</th>\n",
       "      <th>satisfacao_vida</th>\n",
       "      <th>voto2</th>\n",
       "      <th>uso_redes_diario</th>\n",
       "      <th>apoia_proib_arma</th>\n",
       "    </tr>\n",
       "  </thead>\n",
       "  <tbody>\n",
       "    <tr>\n",
       "      <th>0</th>\n",
       "      <td>1</td>\n",
       "      <td>feminino</td>\n",
       "      <td>16-24</td>\n",
       "      <td>fundamental</td>\n",
       "      <td>CE</td>\n",
       "      <td>1612</td>\n",
       "      <td>3</td>\n",
       "      <td>outros</td>\n",
       "      <td>1</td>\n",
       "      <td>1</td>\n",
       "    </tr>\n",
       "    <tr>\n",
       "      <th>1</th>\n",
       "      <td>2</td>\n",
       "      <td>masculino</td>\n",
       "      <td>35-44</td>\n",
       "      <td>fundamental</td>\n",
       "      <td>BA</td>\n",
       "      <td>1882</td>\n",
       "      <td>6</td>\n",
       "      <td>branco/nulo/não sabe</td>\n",
       "      <td>0</td>\n",
       "      <td>0</td>\n",
       "    </tr>\n",
       "    <tr>\n",
       "      <th>2</th>\n",
       "      <td>3</td>\n",
       "      <td>masculino</td>\n",
       "      <td>35-44</td>\n",
       "      <td>fundamental</td>\n",
       "      <td>MG</td>\n",
       "      <td>2241</td>\n",
       "      <td>7</td>\n",
       "      <td>PT</td>\n",
       "      <td>1</td>\n",
       "      <td>0</td>\n",
       "    </tr>\n",
       "    <tr>\n",
       "      <th>3</th>\n",
       "      <td>4</td>\n",
       "      <td>masculino</td>\n",
       "      <td>35-44</td>\n",
       "      <td>fundamental</td>\n",
       "      <td>MG</td>\n",
       "      <td>1831</td>\n",
       "      <td>4</td>\n",
       "      <td>PT</td>\n",
       "      <td>1</td>\n",
       "      <td>0</td>\n",
       "    </tr>\n",
       "    <tr>\n",
       "      <th>4</th>\n",
       "      <td>5</td>\n",
       "      <td>feminino</td>\n",
       "      <td>45-59</td>\n",
       "      <td>fundamental</td>\n",
       "      <td>RS</td>\n",
       "      <td>1835</td>\n",
       "      <td>10</td>\n",
       "      <td>branco/nulo/não sabe</td>\n",
       "      <td>1</td>\n",
       "      <td>0</td>\n",
       "    </tr>\n",
       "  </tbody>\n",
       "</table>\n",
       "</div>"
      ],
      "text/plain": [
       "   id       sexo fx_etaria escolaridade  uf  renda  satisfacao_vida  \\\n",
       "0   1   feminino     16-24  fundamental  CE   1612                3   \n",
       "1   2  masculino     35-44  fundamental  BA   1882                6   \n",
       "2   3  masculino     35-44  fundamental  MG   2241                7   \n",
       "3   4  masculino     35-44  fundamental  MG   1831                4   \n",
       "4   5   feminino     45-59  fundamental  RS   1835               10   \n",
       "\n",
       "                  voto2  uso_redes_diario  apoia_proib_arma  \n",
       "0                outros                 1                 1  \n",
       "1  branco/nulo/não sabe                 0                 0  \n",
       "2                    PT                 1                 0  \n",
       "3                    PT                 1                 0  \n",
       "4  branco/nulo/não sabe                 1                 0  "
      ]
     },
     "execution_count": 3,
     "metadata": {},
     "output_type": "execute_result"
    }
   ],
   "source": [
    "df = pd.read_csv(\"pesquisa_exemplo.csv\")\n",
    "\n",
    "df.head()"
   ]
  },
  {
   "cell_type": "markdown",
   "id": "7e2c7417",
   "metadata": {},
   "source": [
    "\n",
    "## 2) Inspeção rápida do DataFrame\n",
    "Ferramentas úteis para conhecer o conjunto de dados:\n",
    "- `df.shape` (linhas, colunas)  \n",
    "- `df.columns` (nomes das variáveis)  \n",
    "- `df.head()` / `df.tail()` (amostras)  \n",
    "- `df.info()` (tipos das colunas e contagem de não nulos)  \n",
    "- `df.describe()` (estatísticas numéricas) e `df.describe(include='object')` (categóricas).\n"
   ]
  },
  {
   "cell_type": "code",
   "execution_count": 4,
   "id": "b22eb52e",
   "metadata": {},
   "outputs": [
    {
     "data": {
      "text/plain": [
       "((300, 10),\n",
       " ['id',\n",
       "  'sexo',\n",
       "  'fx_etaria',\n",
       "  'escolaridade',\n",
       "  'uf',\n",
       "  'renda',\n",
       "  'satisfacao_vida',\n",
       "  'voto2',\n",
       "  'uso_redes_diario',\n",
       "  'apoia_proib_arma'])"
      ]
     },
     "execution_count": 4,
     "metadata": {},
     "output_type": "execute_result"
    }
   ],
   "source": [
    "\n",
    "df.shape, df.columns.tolist()\n"
   ]
  },
  {
   "cell_type": "code",
   "execution_count": 5,
   "id": "65336f87",
   "metadata": {},
   "outputs": [
    {
     "data": {
      "text/html": [
       "<div>\n",
       "<style scoped>\n",
       "    .dataframe tbody tr th:only-of-type {\n",
       "        vertical-align: middle;\n",
       "    }\n",
       "\n",
       "    .dataframe tbody tr th {\n",
       "        vertical-align: top;\n",
       "    }\n",
       "\n",
       "    .dataframe thead th {\n",
       "        text-align: right;\n",
       "    }\n",
       "</style>\n",
       "<table border=\"1\" class=\"dataframe\">\n",
       "  <thead>\n",
       "    <tr style=\"text-align: right;\">\n",
       "      <th></th>\n",
       "      <th>id</th>\n",
       "      <th>sexo</th>\n",
       "      <th>fx_etaria</th>\n",
       "      <th>escolaridade</th>\n",
       "      <th>uf</th>\n",
       "      <th>renda</th>\n",
       "      <th>satisfacao_vida</th>\n",
       "      <th>voto2</th>\n",
       "      <th>uso_redes_diario</th>\n",
       "      <th>apoia_proib_arma</th>\n",
       "    </tr>\n",
       "  </thead>\n",
       "  <tbody>\n",
       "    <tr>\n",
       "      <th>297</th>\n",
       "      <td>298</td>\n",
       "      <td>feminino</td>\n",
       "      <td>16-24</td>\n",
       "      <td>superior</td>\n",
       "      <td>BA</td>\n",
       "      <td>5504</td>\n",
       "      <td>5</td>\n",
       "      <td>outros</td>\n",
       "      <td>1</td>\n",
       "      <td>1</td>\n",
       "    </tr>\n",
       "    <tr>\n",
       "      <th>298</th>\n",
       "      <td>299</td>\n",
       "      <td>masculino</td>\n",
       "      <td>25-34</td>\n",
       "      <td>fundamental</td>\n",
       "      <td>RJ</td>\n",
       "      <td>826</td>\n",
       "      <td>9</td>\n",
       "      <td>branco/nulo/não sabe</td>\n",
       "      <td>0</td>\n",
       "      <td>1</td>\n",
       "    </tr>\n",
       "    <tr>\n",
       "      <th>299</th>\n",
       "      <td>300</td>\n",
       "      <td>feminino</td>\n",
       "      <td>16-24</td>\n",
       "      <td>fundamental</td>\n",
       "      <td>DF</td>\n",
       "      <td>1414</td>\n",
       "      <td>6</td>\n",
       "      <td>PT</td>\n",
       "      <td>1</td>\n",
       "      <td>1</td>\n",
       "    </tr>\n",
       "  </tbody>\n",
       "</table>\n",
       "</div>"
      ],
      "text/plain": [
       "      id       sexo fx_etaria escolaridade  uf  renda  satisfacao_vida  \\\n",
       "297  298   feminino     16-24     superior  BA   5504                5   \n",
       "298  299  masculino     25-34  fundamental  RJ    826                9   \n",
       "299  300   feminino     16-24  fundamental  DF   1414                6   \n",
       "\n",
       "                    voto2  uso_redes_diario  apoia_proib_arma  \n",
       "297                outros                 1                 1  \n",
       "298  branco/nulo/não sabe                 0                 1  \n",
       "299                    PT                 1                 1  "
      ]
     },
     "execution_count": 5,
     "metadata": {},
     "output_type": "execute_result"
    }
   ],
   "source": [
    "\n",
    "df.tail(3)\n"
   ]
  },
  {
   "cell_type": "code",
   "execution_count": 6,
   "id": "e484d16a",
   "metadata": {},
   "outputs": [
    {
     "name": "stdout",
     "output_type": "stream",
     "text": [
      "<class 'pandas.core.frame.DataFrame'>\n",
      "RangeIndex: 300 entries, 0 to 299\n",
      "Data columns (total 10 columns):\n",
      " #   Column            Non-Null Count  Dtype \n",
      "---  ------            --------------  ----- \n",
      " 0   id                300 non-null    int64 \n",
      " 1   sexo              300 non-null    object\n",
      " 2   fx_etaria         300 non-null    object\n",
      " 3   escolaridade      300 non-null    object\n",
      " 4   uf                300 non-null    object\n",
      " 5   renda             300 non-null    int64 \n",
      " 6   satisfacao_vida   300 non-null    int64 \n",
      " 7   voto2             300 non-null    object\n",
      " 8   uso_redes_diario  300 non-null    int64 \n",
      " 9   apoia_proib_arma  300 non-null    int64 \n",
      "dtypes: int64(5), object(5)\n",
      "memory usage: 23.6+ KB\n"
     ]
    }
   ],
   "source": [
    "\n",
    "df.info()\n"
   ]
  },
  {
   "cell_type": "code",
   "execution_count": 7,
   "id": "1ef3772c",
   "metadata": {},
   "outputs": [
    {
     "data": {
      "text/html": [
       "<div>\n",
       "<style scoped>\n",
       "    .dataframe tbody tr th:only-of-type {\n",
       "        vertical-align: middle;\n",
       "    }\n",
       "\n",
       "    .dataframe tbody tr th {\n",
       "        vertical-align: top;\n",
       "    }\n",
       "\n",
       "    .dataframe thead th {\n",
       "        text-align: right;\n",
       "    }\n",
       "</style>\n",
       "<table border=\"1\" class=\"dataframe\">\n",
       "  <thead>\n",
       "    <tr style=\"text-align: right;\">\n",
       "      <th></th>\n",
       "      <th>id</th>\n",
       "      <th>renda</th>\n",
       "      <th>satisfacao_vida</th>\n",
       "      <th>uso_redes_diario</th>\n",
       "      <th>apoia_proib_arma</th>\n",
       "    </tr>\n",
       "  </thead>\n",
       "  <tbody>\n",
       "    <tr>\n",
       "      <th>count</th>\n",
       "      <td>300.00</td>\n",
       "      <td>300.00</td>\n",
       "      <td>300.00</td>\n",
       "      <td>300.00</td>\n",
       "      <td>300.00</td>\n",
       "    </tr>\n",
       "    <tr>\n",
       "      <th>mean</th>\n",
       "      <td>150.50</td>\n",
       "      <td>2911.55</td>\n",
       "      <td>5.85</td>\n",
       "      <td>0.67</td>\n",
       "      <td>0.51</td>\n",
       "    </tr>\n",
       "    <tr>\n",
       "      <th>std</th>\n",
       "      <td>86.75</td>\n",
       "      <td>1519.71</td>\n",
       "      <td>2.01</td>\n",
       "      <td>0.47</td>\n",
       "      <td>0.50</td>\n",
       "    </tr>\n",
       "    <tr>\n",
       "      <th>min</th>\n",
       "      <td>1.00</td>\n",
       "      <td>600.00</td>\n",
       "      <td>0.00</td>\n",
       "      <td>0.00</td>\n",
       "      <td>0.00</td>\n",
       "    </tr>\n",
       "    <tr>\n",
       "      <th>25%</th>\n",
       "      <td>75.75</td>\n",
       "      <td>1711.75</td>\n",
       "      <td>5.00</td>\n",
       "      <td>0.00</td>\n",
       "      <td>0.00</td>\n",
       "    </tr>\n",
       "    <tr>\n",
       "      <th>50%</th>\n",
       "      <td>150.50</td>\n",
       "      <td>2593.00</td>\n",
       "      <td>6.00</td>\n",
       "      <td>1.00</td>\n",
       "      <td>1.00</td>\n",
       "    </tr>\n",
       "    <tr>\n",
       "      <th>75%</th>\n",
       "      <td>225.25</td>\n",
       "      <td>3896.25</td>\n",
       "      <td>7.00</td>\n",
       "      <td>1.00</td>\n",
       "      <td>1.00</td>\n",
       "    </tr>\n",
       "    <tr>\n",
       "      <th>max</th>\n",
       "      <td>300.00</td>\n",
       "      <td>7714.00</td>\n",
       "      <td>10.00</td>\n",
       "      <td>1.00</td>\n",
       "      <td>1.00</td>\n",
       "    </tr>\n",
       "  </tbody>\n",
       "</table>\n",
       "</div>"
      ],
      "text/plain": [
       "           id    renda  satisfacao_vida  uso_redes_diario  apoia_proib_arma\n",
       "count  300.00   300.00           300.00            300.00            300.00\n",
       "mean   150.50  2911.55             5.85              0.67              0.51\n",
       "std     86.75  1519.71             2.01              0.47              0.50\n",
       "min      1.00   600.00             0.00              0.00              0.00\n",
       "25%     75.75  1711.75             5.00              0.00              0.00\n",
       "50%    150.50  2593.00             6.00              1.00              1.00\n",
       "75%    225.25  3896.25             7.00              1.00              1.00\n",
       "max    300.00  7714.00            10.00              1.00              1.00"
      ]
     },
     "execution_count": 7,
     "metadata": {},
     "output_type": "execute_result"
    }
   ],
   "source": [
    "\n",
    "df.describe()\n"
   ]
  },
  {
   "cell_type": "code",
   "execution_count": 8,
   "id": "8fed357b",
   "metadata": {},
   "outputs": [
    {
     "data": {
      "text/html": [
       "<div>\n",
       "<style scoped>\n",
       "    .dataframe tbody tr th:only-of-type {\n",
       "        vertical-align: middle;\n",
       "    }\n",
       "\n",
       "    .dataframe tbody tr th {\n",
       "        vertical-align: top;\n",
       "    }\n",
       "\n",
       "    .dataframe thead th {\n",
       "        text-align: right;\n",
       "    }\n",
       "</style>\n",
       "<table border=\"1\" class=\"dataframe\">\n",
       "  <thead>\n",
       "    <tr style=\"text-align: right;\">\n",
       "      <th></th>\n",
       "      <th>sexo</th>\n",
       "      <th>fx_etaria</th>\n",
       "      <th>escolaridade</th>\n",
       "      <th>uf</th>\n",
       "      <th>voto2</th>\n",
       "    </tr>\n",
       "  </thead>\n",
       "  <tbody>\n",
       "    <tr>\n",
       "      <th>count</th>\n",
       "      <td>300</td>\n",
       "      <td>300</td>\n",
       "      <td>300</td>\n",
       "      <td>300</td>\n",
       "      <td>300</td>\n",
       "    </tr>\n",
       "    <tr>\n",
       "      <th>unique</th>\n",
       "      <td>2</td>\n",
       "      <td>5</td>\n",
       "      <td>3</td>\n",
       "      <td>10</td>\n",
       "      <td>4</td>\n",
       "    </tr>\n",
       "    <tr>\n",
       "      <th>top</th>\n",
       "      <td>feminino</td>\n",
       "      <td>35-44</td>\n",
       "      <td>médio</td>\n",
       "      <td>PR</td>\n",
       "      <td>PT</td>\n",
       "    </tr>\n",
       "    <tr>\n",
       "      <th>freq</th>\n",
       "      <td>161</td>\n",
       "      <td>68</td>\n",
       "      <td>121</td>\n",
       "      <td>36</td>\n",
       "      <td>122</td>\n",
       "    </tr>\n",
       "  </tbody>\n",
       "</table>\n",
       "</div>"
      ],
      "text/plain": [
       "            sexo fx_etaria escolaridade   uf voto2\n",
       "count        300       300          300  300   300\n",
       "unique         2         5            3   10     4\n",
       "top     feminino     35-44        médio   PR    PT\n",
       "freq         161        68          121   36   122"
      ]
     },
     "execution_count": 8,
     "metadata": {},
     "output_type": "execute_result"
    }
   ],
   "source": [
    "\n",
    "df.describe(include='object')\n"
   ]
  },
  {
   "cell_type": "markdown",
   "id": "530ebfbd",
   "metadata": {},
   "source": [
    "\n",
    "## 3) Tipos de variáveis e `dtypes`\n",
    "Em pesquisas, é comum termos:\n",
    "- **Categóricas** (ex.: `sexo`, `escolaridade`, `voto2`, `uf`)  \n",
    "- **Numéricas** (ex.: `renda`, `satisfacao_vida`).\n",
    "\n",
    "Podemos converter algumas em **`category`** para economizar memória e facilitar análises.\n"
   ]
  },
  {
   "cell_type": "code",
   "execution_count": 15,
   "id": "13cbb57c-6dd7-4a8a-8fde-a674935684b1",
   "metadata": {},
   "outputs": [
    {
     "data": {
      "text/plain": [
       "id                     int64\n",
       "sexo                category\n",
       "fx_etaria           category\n",
       "escolaridade        category\n",
       "uf                  category\n",
       "renda                  int64\n",
       "satisfacao_vida        int64\n",
       "voto2               category\n",
       "uso_redes_diario       int64\n",
       "apoia_proib_arma       int64\n",
       "dtype: object"
      ]
     },
     "execution_count": 15,
     "metadata": {},
     "output_type": "execute_result"
    }
   ],
   "source": [
    "df[\"sexo\"] = df[\"sexo\"].astype(\"category\")\n",
    "df[\"fx_etaria\"] = df[\"fx_etaria\"].astype(\"category\")\n",
    "df[\"escolaridade\"] = df[\"escolaridade\"].astype(\"category\")\n",
    "df[\"uf\"] = df[\"uf\"].astype(\"category\")\n",
    "df[\"voto2\"] = df[\"voto2\"].astype(\"category\")                                   \n",
    "\n",
    "df.dtypes"
   ]
  },
  {
   "cell_type": "markdown",
   "id": "d1e60447-13ae-4acd-8af9-726ae99017bd",
   "metadata": {},
   "source": [
    " Caminho mais simples"
   ]
  },
  {
   "cell_type": "code",
   "execution_count": 16,
   "id": "519004ca-56f5-472e-ba4a-b9802182b4a1",
   "metadata": {},
   "outputs": [
    {
     "name": "stdout",
     "output_type": "stream",
     "text": [
      "<class 'pandas.core.frame.DataFrame'>\n",
      "RangeIndex: 300 entries, 0 to 299\n",
      "Data columns (total 10 columns):\n",
      " #   Column            Non-Null Count  Dtype   \n",
      "---  ------            --------------  -----   \n",
      " 0   id                300 non-null    int64   \n",
      " 1   sexo              300 non-null    category\n",
      " 2   fx_etaria         300 non-null    category\n",
      " 3   escolaridade      300 non-null    category\n",
      " 4   uf                300 non-null    category\n",
      " 5   renda             300 non-null    int64   \n",
      " 6   satisfacao_vida   300 non-null    int64   \n",
      " 7   voto2             300 non-null    category\n",
      " 8   uso_redes_diario  300 non-null    int64   \n",
      " 9   apoia_proib_arma  300 non-null    int64   \n",
      "dtypes: category(5), int64(5)\n",
      "memory usage: 14.3 KB\n"
     ]
    }
   ],
   "source": [
    "# Para um conjunto de variáveis: de objeto para categoria \n",
    "\n",
    "cat_cols = [\"sexo\", \"fx_etaria\", \"escolaridade\", \"uf\", \"voto2\"]\n",
    "\n",
    "\n",
    "df[cat_cols] = df[cat_cols].astype(\"category\")\n",
    "\n",
    "df.info()"
   ]
  },
  {
   "cell_type": "markdown",
   "id": "b6e858e0",
   "metadata": {},
   "source": [
    "\n",
    "## 4) Valores ausentes (NA)\n",
    "Verificando valores ausentes por coluna:\n"
   ]
  },
  {
   "cell_type": "code",
   "execution_count": 17,
   "id": "29e928b5",
   "metadata": {},
   "outputs": [
    {
     "data": {
      "text/plain": [
       "id                  0\n",
       "sexo                0\n",
       "fx_etaria           0\n",
       "escolaridade        0\n",
       "uf                  0\n",
       "renda               0\n",
       "satisfacao_vida     0\n",
       "voto2               0\n",
       "uso_redes_diario    0\n",
       "apoia_proib_arma    0\n",
       "dtype: int64"
      ]
     },
     "execution_count": 17,
     "metadata": {},
     "output_type": "execute_result"
    }
   ],
   "source": [
    "df.isna().sum()"
   ]
  },
  {
   "cell_type": "markdown",
   "id": "d136c925",
   "metadata": {},
   "source": [
    "\n",
    "---\n",
    "## Onde conseguir **bases públicas** em CSV\n",
    "- **IBGE** (Censo, PNAD Contínua, POF): muitos arquivos em CSV ou microdados (requer mais preparo).  \n",
    "- **IPEA Data (Ipeadata)**: séries históricas econômicas e sociais.  \n",
    "- **TSE** (Tribunal Superior Eleitoral): resultados de eleições por seção/município, em CSV.  \n",
    "- **DataSUS**: saúde pública (internações, mortalidade, etc.), boa parte disponível em CSV.  \n",
    "- **Portal Brasileiro de Dados Abertos** (dados.gov.br): agregador de bases públicas.  \n",
    "- **Repositórios de pesquisas acadêmicas** (ex.: ESEB, LAPOP) — geralmente em formatos como CSV, DTA, SAV.\n",
    "\n",
    "> Para esta disciplina, prefira conjuntos **pequenos** (até algumas centenas de milhares de linhas) e **documentados**.\n"
   ]
  },
  {
   "cell_type": "markdown",
   "id": "1dbc82f2",
   "metadata": {},
   "source": [
    "\n",
    "# Parte 2 — Medidas de tendência central (conceitos + prática)\n",
    "\n",
    "Nesta seção exploraremos as **Medidas de Tendência Central** (média, mediana e moda), \n",
    "e acrescentamos **como calcular em Python** com o nosso DataFrame.\n",
    "\n",
    "**Ideias principais**  \n",
    "- **Média**: soma os valores e divide pelo número de observações. É **sensível a valores extremos** (*outliers*).  \n",
    "- **Mediana**: valor central dos dados **ordenados**; pouco afetada por valores extremos.  \n",
    "- **Moda**: valor que **mais se repete** (pode haver mais de uma).  \n",
    "- Quando a distribuição é **assimétrica** (cauda longa), a **mediana** costuma **representar melhor** o “centro”.  \n",
    "- Em distribuições **simétricas**, média e mediana tendem a ser próximas.\n",
    "\n",
    "> Vamos usar também **quartis** (Q1, Q2/mediana, Q3) e **percentis** para entender posições relativas na distribuição.\n"
   ]
  },
  {
   "cell_type": "markdown",
   "id": "5a91695e",
   "metadata": {},
   "source": [
    "\n",
    "## 2.1 Conceitos rápidos \n",
    "- **Mediana**: ordene os dados; se **n** é ímpar, a mediana é o valor central; se **n** é par, é a **média dos dois valores centrais**.  \n",
    "- **Média**: some tudo e divida por **n**.  \n",
    "- **Sensibilidade a outliers**: ao **acrescentar um valor extremo**, a **média** pode mudar bastante, enquanto a **mediana** muda pouco.  \n",
    "- **Quartis e percentis**: dividem os dados ordenados em **partes** (Q1 = 25%, Q2 = 50%, Q3 = 75%). Os **percentis** dividem em 100 partes (p5, p10, p90, p95...).  \n",
    "- **Resumo de seis números**: mínimo, Q1, mediana (Q2), média, Q3, máximo.\n",
    "\n",
    "> Exemplos conceituais como os que aparecem na apostila ajudam a visualizar a diferença entre **média** e **mediana** quando existe um **valor extremo**.\n"
   ]
  },
  {
   "cell_type": "markdown",
   "id": "40284d20",
   "metadata": {},
   "source": [
    "\n",
    "## 2.2 Média, mediana e moda (ex.: `renda` e `satisfacao_vida`)\n"
   ]
  },
  {
   "cell_type": "code",
   "execution_count": 18,
   "id": "7a13fcb3",
   "metadata": {},
   "outputs": [
    {
     "name": "stdout",
     "output_type": "stream",
     "text": [
      "RENDA -> média: 2911.55 | mediana: 2593.0 | moda(s): [600]\n"
     ]
    }
   ],
   "source": [
    "# Média, mediana e moda de 'renda' e 'satisfacao_vida'\n",
    "media_renda = df['renda'].mean()\n",
    "mediana_renda = df['renda'].median()\n",
    "moda_renda = df['renda'].mode()  # pode ter mais de uma moda\n",
    "\n",
    "print(\"RENDA -> média:\", round(media_renda, 2), \n",
    "      \"| mediana:\", round(mediana_renda, 2), \n",
    "      \"| moda(s):\", moda_renda.values[:5])  # mostra até 5 valores"
   ]
  },
  {
   "cell_type": "code",
   "execution_count": 19,
   "id": "d4673fbb-0db5-46a3-8a5e-9e8c410e57bf",
   "metadata": {},
   "outputs": [
    {
     "name": "stdout",
     "output_type": "stream",
     "text": [
      "SATISFAÇÃO -> média: 5.85 | mediana: 6.0 | moda(s): [5]\n"
     ]
    }
   ],
   "source": [
    "media_sat = df['satisfacao_vida'].mean()\n",
    "mediana_sat = df['satisfacao_vida'].median()\n",
    "moda_sat = df['satisfacao_vida'].mode()\n",
    "\n",
    "print(\"SATISFAÇÃO -> média:\", round(media_sat, 2), \n",
    "      \"| mediana:\", round(mediana_sat, 2), \n",
    "      \"| moda(s):\", moda_sat.values[:5])"
   ]
  },
  {
   "cell_type": "markdown",
   "id": "ce4c7bad",
   "metadata": {},
   "source": [
    "\n",
    "## 2.3 Média x Mediana com **outlier**\n",
    "\n",
    "primeiro sem valor extremo, depois **adicionando um valor muito alto**.\n"
   ]
  },
  {
   "cell_type": "code",
   "execution_count": 20,
   "id": "32291ae9",
   "metadata": {},
   "outputs": [
    {
     "name": "stdout",
     "output_type": "stream",
     "text": [
      "Amostra: [78, 91, 94, 98, 99, 101, 103, 105, 114]\n",
      "Média: 98.11111111111111 | Mediana: 99.0\n",
      "\n",
      "Amostra com outlier: [78, 91, 94, 98, 99, 101, 103, 105, 114, 1200]\n",
      "Média: 208.3 | Mediana: 100.0\n"
     ]
    }
   ],
   "source": [
    "amostra = [78, 91, 94, 98, 99, 101, 103, 105, 114]\n",
    "print(\"Amostra:\", amostra)\n",
    "print(\"Média:\", np.mean(amostra), \"| Mediana:\", np.median(amostra))\n",
    "\n",
    "amostra_outlier = amostra + [1200]\n",
    "print(\"\\nAmostra com outlier:\", amostra_outlier)\n",
    "print(\"Média:\", np.mean(amostra_outlier), \"| Mediana:\", np.median(amostra_outlier))\n"
   ]
  },
  {
   "cell_type": "markdown",
   "id": "0f595d1d",
   "metadata": {},
   "source": [
    "\n",
    "## 2.4 Quartis, percentis e resumo\n",
    "Vamos calcular **quartis** e alguns **percentis** para `renda`.\n"
   ]
  },
  {
   "cell_type": "code",
   "execution_count": 26,
   "id": "cb7f1a43",
   "metadata": {},
   "outputs": [
    {
     "name": "stdout",
     "output_type": "stream",
     "text": [
      "Quartis (renda):\n",
      "0.25    1711.75\n",
      "0.50    2593.00\n",
      "0.75    3896.25\n",
      "Name: renda, dtype: float64\n",
      "\n",
      "Percentis selecionados (renda):\n",
      "0.05     847.85\n",
      "0.10    1175.80\n",
      "0.90    5345.30\n",
      "0.95    5755.30\n",
      "0.99    6399.65\n",
      "Name: renda, dtype: float64\n",
      "\n",
      "Resumo (seis números):\n"
     ]
    }
   ],
   "source": [
    "quartis = df['renda'].quantile([0.25, 0.5, 0.75])\n",
    "\n",
    "percentis = df['renda'].quantile([0.05, 0.10, 0.90, 0.95, 0.99])\n",
    "\n",
    "resumo_seis = {\n",
    "    \"min\": df['renda'].min(),\n",
    "    \"Q1\": quartis.loc[0.25],\n",
    "    \"mediana(Q2)\": quartis.loc[0.5],\n",
    "    \"média\": df['renda'].mean(),\n",
    "    \"Q3\": quartis.loc[0.75],\n",
    "    \"max\": df['renda'].max(),\n",
    "}\n",
    "\n",
    "print(\"Quartis (renda):\")\n",
    "print(quartis)\n",
    "\n",
    "print(\"\\nPercentis selecionados (renda):\")\n",
    "print(percentis)\n",
    "\n",
    "print(\"\\nResumo (seis números):\")\n",
    "\n"
   ]
  },
  {
   "cell_type": "code",
   "execution_count": 22,
   "id": "956190e8-e728-4b00-a358-df5632bd16b3",
   "metadata": {},
   "outputs": [
    {
     "data": {
      "text/html": [
       "<div>\n",
       "<style scoped>\n",
       "    .dataframe tbody tr th:only-of-type {\n",
       "        vertical-align: middle;\n",
       "    }\n",
       "\n",
       "    .dataframe tbody tr th {\n",
       "        vertical-align: top;\n",
       "    }\n",
       "\n",
       "    .dataframe thead th {\n",
       "        text-align: right;\n",
       "    }\n",
       "</style>\n",
       "<table border=\"1\" class=\"dataframe\">\n",
       "  <thead>\n",
       "    <tr style=\"text-align: right;\">\n",
       "      <th></th>\n",
       "      <th>id</th>\n",
       "      <th>renda</th>\n",
       "      <th>satisfacao_vida</th>\n",
       "      <th>uso_redes_diario</th>\n",
       "      <th>apoia_proib_arma</th>\n",
       "    </tr>\n",
       "  </thead>\n",
       "  <tbody>\n",
       "    <tr>\n",
       "      <th>count</th>\n",
       "      <td>300.00</td>\n",
       "      <td>300.00</td>\n",
       "      <td>300.00</td>\n",
       "      <td>300.00</td>\n",
       "      <td>300.00</td>\n",
       "    </tr>\n",
       "    <tr>\n",
       "      <th>mean</th>\n",
       "      <td>150.50</td>\n",
       "      <td>2911.55</td>\n",
       "      <td>5.85</td>\n",
       "      <td>0.67</td>\n",
       "      <td>0.51</td>\n",
       "    </tr>\n",
       "    <tr>\n",
       "      <th>std</th>\n",
       "      <td>86.75</td>\n",
       "      <td>1519.71</td>\n",
       "      <td>2.01</td>\n",
       "      <td>0.47</td>\n",
       "      <td>0.50</td>\n",
       "    </tr>\n",
       "    <tr>\n",
       "      <th>min</th>\n",
       "      <td>1.00</td>\n",
       "      <td>600.00</td>\n",
       "      <td>0.00</td>\n",
       "      <td>0.00</td>\n",
       "      <td>0.00</td>\n",
       "    </tr>\n",
       "    <tr>\n",
       "      <th>25%</th>\n",
       "      <td>75.75</td>\n",
       "      <td>1711.75</td>\n",
       "      <td>5.00</td>\n",
       "      <td>0.00</td>\n",
       "      <td>0.00</td>\n",
       "    </tr>\n",
       "    <tr>\n",
       "      <th>50%</th>\n",
       "      <td>150.50</td>\n",
       "      <td>2593.00</td>\n",
       "      <td>6.00</td>\n",
       "      <td>1.00</td>\n",
       "      <td>1.00</td>\n",
       "    </tr>\n",
       "    <tr>\n",
       "      <th>75%</th>\n",
       "      <td>225.25</td>\n",
       "      <td>3896.25</td>\n",
       "      <td>7.00</td>\n",
       "      <td>1.00</td>\n",
       "      <td>1.00</td>\n",
       "    </tr>\n",
       "    <tr>\n",
       "      <th>max</th>\n",
       "      <td>300.00</td>\n",
       "      <td>7714.00</td>\n",
       "      <td>10.00</td>\n",
       "      <td>1.00</td>\n",
       "      <td>1.00</td>\n",
       "    </tr>\n",
       "  </tbody>\n",
       "</table>\n",
       "</div>"
      ],
      "text/plain": [
       "           id    renda  satisfacao_vida  uso_redes_diario  apoia_proib_arma\n",
       "count  300.00   300.00           300.00            300.00            300.00\n",
       "mean   150.50  2911.55             5.85              0.67              0.51\n",
       "std     86.75  1519.71             2.01              0.47              0.50\n",
       "min      1.00   600.00             0.00              0.00              0.00\n",
       "25%     75.75  1711.75             5.00              0.00              0.00\n",
       "50%    150.50  2593.00             6.00              1.00              1.00\n",
       "75%    225.25  3896.25             7.00              1.00              1.00\n",
       "max    300.00  7714.00            10.00              1.00              1.00"
      ]
     },
     "execution_count": 22,
     "metadata": {},
     "output_type": "execute_result"
    }
   ],
   "source": [
    "df.describe()"
   ]
  },
  {
   "cell_type": "code",
   "execution_count": null,
   "id": "bbe6234e-3bbc-47c9-a277-8b6177321108",
   "metadata": {},
   "outputs": [],
   "source": []
  },
  {
   "cell_type": "markdown",
   "id": "6982f822-c52f-4ec9-ad46-396a55f4ec8d",
   "metadata": {},
   "source": [
    "### A Mediana não é a ensagem: Stephen Jay Gould"
   ]
  },
  {
   "cell_type": "markdown",
   "id": "ee766aaf-36cf-4e7f-aad1-b5795195022e",
   "metadata": {},
   "source": [
    "Recentemente minha vida cruzou, de maneira pessoal, dois dos famosos ditos de Mark Twain. Um eu deixarei para o final. O outro (por vezes atribuído a Disraeli) identifica três tipos de mentiras, cada uma pior que a outra anterior – mentiras, malditas mentiras, e estatística.\n",
    "\n",
    "Considere o exemplo padrão de exagerar a verdade com números – um caso bastante relevante para a minha narrativa. A estatística reconhece diferentes medidas de tendência central. A média representa nosso conceito comum de uma tendência central geral – some todos os itens e os divida por um número (100 barras de chocolate para cinco crianças, em um mundo justo, equivale a uma média de 20 barras por criança). A mediana, uma medida de tendência central diferente, é o ponto que marca meio do caminho. Se alinharmos cinco crianças por altura, a criança mediana é menor que duas e maior que as outras duas (que podem ter problemas pra obter sua parcela média de chocolate). Um político no poder pode dizer com orgulho que “a renda média de nossos cidadãos é 15 mil dólares por ano”. E o líder da oposição pode retaliar, dizendo que, apesar disso, “metade dos nossos cidadãos ganha menos de 10 mil dólares por ano”. Ambos podem estar corretos, mas nenhum cita uma estatística com objetividade imparcial. O primeiro invoca a média, o segundo a mediana. Médias são mais altas que medianas em casos assim porque um milionário pode sobrepesar centenas de pessoas pobres no estabelecimento de uma média, mas pode equilibrar apenas um mendicante no cálculo de uma mediana.\n",
    "\n",
    "A razão maior pela qual há desconfiança ou desprezo pela estatística é mais preocupante. Muitas pessoas fazem uma separação desafortunada e inválida entre coração e mente, sentimento e intelecto. Em algumas tradições contemporâneas, encorajadas por atitudes centradas estereotipicamente no sul da Califórnia, sentimentos são exaltados como mais “reais” e a única base adequada para a ação, enquanto o intelecto é reduzido a elitismo obsoleto. A estatística, nessa dicotomia absurda, muitas vezes se torna o símbolo do inimigo. Como escreveu Hilaire Belloc, “as estatísticas são o triunfo do método quantitativo, e o método quantitativo é a vitória da esterilidade e da morte”.   \n",
    "\n",
    "Esta é uma história pessoal de estatística, adequadamente interpretada, como profundamente nutritiva e vivificante. Ela declara guerra santa à desclassificação do intelecto, contando uma pequena história para ilustrar a utilidade do conhecimento bruto e acadêmico da ciência. Coração e cabeça são pontos focais de um corpo, de uma personalidade. \n",
    "\n",
    "Em julho de 1982, tomei conhecimento que sofria de mesotelioma peritonial, um câncer raro e grave, geralmente associado à exposição ao amianto. Quando revivi após a cirurgia, fiz minha primeira pergunta à minha médica e quimioterapeuta: \"Qual é a melhor literatura técnica sobre mesotelioma?\" Ela respondeu, com um toque de diplomacia (a única evasiva que ela já fez da franqueza direta), que a literatura médica não continha nada que realmente valesse a pena ler.\n",
    "\n",
    "É claro, tentar manter um intelectual longe da literatura funciona tão bem quanto recomendar castidade aos Homo sapiens, o primata mais sexy de todos. Assim que consegui andar, fui direto para a biblioteca médica Countway, Harvard, e inseri “mesotelioma” no programa de pesquisa bibliográfica do computador. Uma hora depois, cercado pela literatura mais recente sobre mesotelioma peritonial, percebi, com um entalo na garganta, por que minha médica havia oferecido esse conselho humano. A literatura não poderia ter sido mais brutalmente clara: o mesotelioma é incurável, com uma mortalidade mediana de apenas oito meses após a descoberta. Fiquei atordoado por cerca de quinze minutos, depois sorri e disse para mim mesmo: é por isso que eles não me deram nada para ler. Então minha mente começou a funcionar novamente, e ainda bem.\n",
    "\n",
    "Se um pouco de aprendizado pudesse alguma vez ser perigoso, encontrei um exemplo clássico. Atitude é claramente importante no combate ao câncer. Não sabemos por que (da minha perspectiva materialista à moda antiga, desconfio que os estados mentais podem influenciar o sistema imunológico). Mas compare pessoas com o mesmo câncer, idade, classe, saúde e status socioeconômico e, em geral, tendem a viver mais aquelas pessoas com atitudes positivas, com uma vontade e um propósito fortes de viver, com o compromisso de lutar e com uma resposta ativa para ajudar seu próprio tratamento, não apenas uma aceitação passiva de qualquer coisa que os médicos dizem. Alguns meses depois, perguntei a Sir Peter Medawar, meu guru científico pessoal e Nobelista em imunologia, qual seria a melhor receita para o sucesso contra o câncer. \"Uma personalidade otimista\", ele respondeu. Felizmente (já que não é possível reconstruir-se a curto prazo e com um objetivo definido), estou, se é que há algo, calmo e confiante justamente assim.\n",
    "\n",
    "Daí o dilema para médicos humanos: como a atitude é tão crítica, deve ser anunciada uma conclusão tão sombria, especialmente porque poucas pessoas têm entendimento suficiente das estatísticas para avaliar o que as declarações realmente significam? Dos anos de experiência com a evolução em pequena escala de caracóis terrestres das Bahamas, quantitativamente tratados, desenvolvi esse conhecimento técnico – e estou convencido de que ele desempenhou um papel importante em salvar minha vida. Conhecimento é realmente poder, como proclamou Francis Bacon.\n",
    "\n",
    "O problema pode ser enunciado de forma breve: o que “mortalidade mediana de oito meses” significa em nosso vocabulário do dia-a-dia? Suspeito que a maioria das pessoas, sem treinamento em estatística, leia a afirmação como \"provavelmente morrerei em oito meses\" – justamente a conclusão que deve ser evitada, tanto porque essa formulação é falsa, quanto porque a atitude é muito importante.\n",
    "\n",
    "Evidentemente, não fiquei muito feliz, mas também não li a declaração dessa maneira vernacular. Meu treinamento técnico estabeleceu uma perspectiva diferente sobre \"mortalidade mediana de oito meses\". O argumento pode parecer sutil, mas as consequências podem ser profundas. Além disso, essa perspectiva incorpora a maneira distinta de pensar em meu próprio campo da biologia evolutiva e da história natural.\n",
    "\n",
    "Ainda carregamos a bagagem histórica de uma herança platônica que busca essências nítidas e limites definidos. (Assim, esperamos encontrar um \"começo de vida\" ou \"definição de morte\" inequívoco, embora a natureza frequentemente nos chegue como contínuos irredutíveis.) Essa herança platônica, com ênfase em distinções claras e entidades imutáveis ​​separadas, nos leva a ver medidas estatísticas de tendência central de maneira errada, de fato opostas à interpretação apropriada em nosso mundo real de variação, tonalidade e contínuo. Em resumo, vemos médias e medianas como \"realidades\" nuas e a variação que permite seu cálculo como um conjunto de medidas transitórias e imperfeitas dessa essência oculta. Se a mediana é a realidade e a variação em torno da mediana apenas um dispositivo para cálculo, então a conclusão \"provavelmente estarei morto em oito meses\" pode passar como uma interpretação razoável.\n",
    "\n",
    "Mas todos os biólogos evolutivos sabem que a variação em si é a única essência irredutível da natureza. A variação é a dura realidade, não um conjunto de medidas imperfeitas para uma tendência central. Médias e medianas são as abstrações. Portanto, observei as estatísticas do mesotelioma de maneira bem diferente – e não apenas porque sou otimista e tendo a ver a rosquinha de massa frita em vez do buraco, mas principalmente porque sei que a variação em si é a realidade. Eu tive que me localizar em meio à variação.\n",
    "\n",
    "Quando soube da mediana de oito meses, minha primeira reação intelectual foi: Tudo bem, metade das pessoas viverá mais; agora, quais são minhas chances de estar nessa metade? Eu li por uma hora furiosa e nervosa e concluí, com alívio: muito bom. Eu possuía todas as características que conferiam uma probabilidade de vida mais longa: eu era jovem; minha doença havia sido reconhecida em um estágio relativamente inicial; eu receberia o melhor tratamento médico do país; eu tinha o mundo pelo qual viver; eu sabia ler os dados corretamente e não me desesperar.\n",
    "\n",
    "Outro ponto técnico acrescentou ainda mais consolo (ver figura abaixo). Reconheci imediatamente que a [a curva de] distribuição da variação sobre a mediana de oito meses quase certamente seria o que os estatísticos chamam de \"assimétrica positiva\". (Em uma distribuição simétrica, o perfil de variação à esquerda da tendência central é uma imagem espelhada da variação à direita. As distribuições distorcidas são assimétricas, com a variação se estendendo mais em uma direção que a outra – assimétrica negativa [com cauda esquerda], se estendida à esquerda; ou assimétrica positiva [com cauda direita], se esticada para a direita.) A distribuição da variação tinha que ser assimétrica positiva, eu raciocinei. Afinal, a esquerda da distribuição contém um limite inferior irrevogável de zero (já que o mesotelioma só pode ser identificado na morte ou antes). Assim, existe pouco espaço para a metade inferior (ou esquerda) da distribuição – ela deve ser comprimida entre zero e oito meses. Mas a metade superior (ou direita) pode se estender por anos e anos, mesmo que por fim ninguém sobreviva. A distribuição deveria ser assimétrica positiva, e eu precisava saber por quanto tempo a cauda se estendia – pois eu já havia concluído que meu perfil favorável me tornava um bom candidato para a metade direita da curva.\n",
    "\n",
    "\n",
    "Figura 1. Uma curva assimétrica positiva. \"Diz-se que a assimetria é positiva quando predominam os valores mais altos das OBSERVAÇÕES, isto é, a Distribuição ou Curva de Frequência tem uma “cauda” mais longa à direita da ordenada (frequência) máxima do que à esquerda\". Imagem e texto explicativo disponíveis aqui. \n",
    "\n",
    "A distribuição era, de fato, fortemente assimétrica positiva, com uma cauda longa (embora [relativamente] pequena) que se estendia por vários anos para além da mediana de oito meses. Não vi razão para não estar naquela cauda pequena e soltei um longo suspiro de alívio. Meu conhecimento técnico havia ajudado. Eu tinha lido o gráfico corretamente. Eu fiz a pergunta certa e encontrei as respostas. Eu tinha obtido, com toda probabilidade, o mais precioso de todos os presentes possíveis dadas as circunstâncias – tempo substancial. Não precisei parar e seguir imediatamente a ordem de Isaías a Ezequias – Põe em ordem a tua casa, porque morrerás, e não viverás [Isaías 38:1]. Eu teria tempo para pensar, planejar e lutar.\n",
    "\n",
    "Um último ponto sobre distribuições estatísticas. Elas se aplicam apenas a um conjunto prescrito de circunstâncias – nesse caso, a sobrevivência com mesotelioma sob regime dos modos convencionais de tratamento. Se as circunstâncias mudarem, a distribuição poderá sofrer alterações. Fui submetido a um protocolo experimental de tratamento e, se houver sorte, estarei na primeira coorte de uma nova distribuição com alta mediana e uma cauda direita que se estende até a morte por causas naturais em idade avançada. Até agora, tudo bem [1].\n",
    "\n",
    "Tornou-se, na minha opinião, um pouco moda demais considerar a aceitação da morte como algo equivalente à dignidade intrínseca. É claro que concordo com o pregador de Eclesiastes de que há um tempo para amar e um tempo para morrer [Eclesiastes 3:1-9] – e quando meu novelo acabar, espero enfrentar o fim com calma e do meu jeito. Na maioria das situações, no entanto, prefiro a visão mais marcial de que a morte é o inimigo supremo – e não encontro nada de reprovável naqueles que se enfurecem poderosamente contra a cessação da luz.\n",
    "\n",
    "As armas de batalha são numerosas e nada mais eficaz que o humor. Minha morte foi anunciada em uma reunião de meus colegas na Escócia, e eu quase senti o delicioso prazer de ler meu obituário escrito por um dos meus melhores amigos (esse fulano ficou desconfiado e checou; ele também é estatístico e não esperava me encontrar tão longe na cauda esquerda). Ainda assim, o incidente rendeu minha primeira boa risada após o diagnóstico. Pense, eu quase consegui repetir a linha mais famosa de Mark Twain: os relatos da minha morte são muito exagerados [2].\n",
    "\n",
    "\n",
    "***\n",
    "\n",
    "\n",
    "\n",
    "[1] Gould faleceu em 2002, aos 60 anos, em decorrência de um adenocarcinoma pulmonar; esse ensaio foi publicado originalmente em 1985, mas “até agora, tudo bem” foi adicionado como nota de rodapé quando o ensaio foi incluído no livro Bully for Brontosaurus  (1991).\n",
    "\n",
    "[2] Desde que escrevi isso, minha morte foi relatada em duas revistas europeias, com cinco anos de diferença. Fama volat (e dura muito tempo). Eu chiei muito alto nas duas vezes e exigi uma retração; acho que simplesmente não tenho o savoir faire do Sr. Clemens. Nota do tradutor: Gould adicionou essa nota de rodapé quando o ensaio foi incluído no livro Bully for Brontosaurus (1991). "
   ]
  },
  {
   "cell_type": "code",
   "execution_count": 25,
   "id": "92fb1277-a608-450c-8f6e-49c19f85c05f",
   "metadata": {},
   "outputs": [
    {
     "data": {
      "image/png": "[encoded data removed]",
      "text/plain": [
       "<Figure size 800x500 with 1 Axes>"
      ]
     },
     "metadata": {},
     "output_type": "display_data"
    }
   ],
   "source": [
    "import numpy as np\n",
    "import matplotlib.pyplot as plt\n",
    "import seaborn as sns\n",
    "\n",
    "# Simular \"sobrevida\" em meses para um câncer raro, como no texto de Gould\n",
    "# Usando distribuição exponencial para ter assimetria positiva\n",
    "np.random.seed(42)\n",
    "sobrevida = np.random.exponential(scale=8, size=1000)  # mediana próxima de 8 meses\n",
    "\n",
    "# Calcular mediana\n",
    "mediana = np.median(sobrevida)\n",
    "\n",
    "# Plotar histograma com densidade\n",
    "plt.figure(figsize=(8,5))\n",
    "sns.histplot(sobrevida, bins=40, kde=True, stat=\"density\", color=\"lightcoral\", edgecolor=\"black\")\n",
    "plt.axvline(mediana, color=\"green\", linestyle=\"--\", linewidth=2, label=f\"Mediana = {mediana:.1f} meses\")\n",
    "plt.title(\"Distribuição Assimétrica Positiva da Sobrevida\\n(Mesotelioma, exemplo inspirado em Gould)\", fontsize=13)\n",
    "plt.xlabel(\"Meses de sobrevida após diagnóstico\")\n",
    "plt.ylabel(\"Densidade\")\n",
    "plt.legend()\n",
    "plt.tight_layout()\n",
    "plt.show()\n"
   ]
  },
  {
   "cell_type": "code",
   "execution_count": null,
   "id": "1ecff115-26de-4c3e-8326-a8a690eaab49",
   "metadata": {},
   "outputs": [],
   "source": []
  }
 ],
 "metadata": {
  "kernelspec": {
   "display_name": "Python 3 (ipykernel)",
   "language": "python",
   "name": "python3"
  },
  "language_info": {
   "codemirror_mode": {
    "name": "ipython",
    "version": 3
   },
   "file_extension": ".py",
   "mimetype": "text/x-python",
   "name": "python",
   "nbconvert_exporter": "python",
   "pygments_lexer": "ipython3",
   "version": "3.9.13"
  }
 },
 "nbformat": 4,
 "nbformat_minor": 5
}
