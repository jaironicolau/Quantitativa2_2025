{
 "cells": [
  {
   "cell_type": "markdown",
   "id": "ab58a4e1",
   "metadata": {},
   "source": [
    "# Aula 3: Desvio‑padrão e Z‑score \n",
    "\n",
    "\n",
    "## O que você vai aprender\n",
    "1. **Média** (revisão rápida) e por que ela não basta.\n",
    "2. **Desvio‑padrão**: o tamanho médio do desvio em relação à média.\n",
    "3. **Cálculo manual** com um exemplo pequeno (para entender a lógica).\n",
    "4. **Z‑score**: quantos desvios‑padrão um valor está distante da média.\n",
    "5. **Como comparar resultados em **escala diferente** usando z‑score.\n",
    "6. **Exercícios guiados** ao final de cada parte."
   ]
  },
  {
   "cell_type": "markdown",
   "id": "5c34de8f",
   "metadata": {},
   "source": [
    "## Importar bibliotecas e carregar o banco de dados\n",
    "\n",
    "Vamos começar carregando o arquivo `pesquisa_exemplo.csv` que você enviou.  \n",
    "> Observação: caso a variável `idade` **não exista** no seu banco, o notebook escolherá **automaticamente** a **primeira coluna numérica** disponível e informará qual foi."
   ]
  },
  {
   "cell_type": "code",
   "execution_count": 4,
   "id": "4755cc5f",
   "metadata": {},
   "outputs": [
    {
     "name": "stderr",
     "output_type": "stream",
     "text": [
      "/opt/anaconda3/lib/python3.9/site-packages/pandas/core/computation/expressions.py:21: UserWarning: Pandas requires version '2.8.4' or newer of 'numexpr' (version '2.8.3' currently installed).\n",
      "  from pandas.core.computation.check import NUMEXPR_INSTALLED\n",
      "/opt/anaconda3/lib/python3.9/site-packages/pandas/core/arrays/masked.py:61: UserWarning: Pandas requires version '1.3.6' or newer of 'bottleneck' (version '1.3.5' currently installed).\n",
      "  from pandas.core import (\n"
     ]
    },
    {
     "data": {
      "text/html": [
       "<div>\n",
       "<style scoped>\n",
       "    .dataframe tbody tr th:only-of-type {\n",
       "        vertical-align: middle;\n",
       "    }\n",
       "\n",
       "    .dataframe tbody tr th {\n",
       "        vertical-align: top;\n",
       "    }\n",
       "\n",
       "    .dataframe thead th {\n",
       "        text-align: right;\n",
       "    }\n",
       "</style>\n",
       "<table border=\"1\" class=\"dataframe\">\n",
       "  <thead>\n",
       "    <tr style=\"text-align: right;\">\n",
       "      <th></th>\n",
       "      <th>id</th>\n",
       "      <th>sexo</th>\n",
       "      <th>fx_etaria</th>\n",
       "      <th>escolaridade</th>\n",
       "      <th>uf</th>\n",
       "      <th>renda</th>\n",
       "      <th>satisfacao_vida</th>\n",
       "      <th>voto2</th>\n",
       "      <th>uso_redes_diario</th>\n",
       "      <th>apoia_proib_arma</th>\n",
       "    </tr>\n",
       "  </thead>\n",
       "  <tbody>\n",
       "    <tr>\n",
       "      <th>0</th>\n",
       "      <td>1</td>\n",
       "      <td>feminino</td>\n",
       "      <td>16-24</td>\n",
       "      <td>fundamental</td>\n",
       "      <td>CE</td>\n",
       "      <td>1612</td>\n",
       "      <td>3</td>\n",
       "      <td>outros</td>\n",
       "      <td>1</td>\n",
       "      <td>1</td>\n",
       "    </tr>\n",
       "    <tr>\n",
       "      <th>1</th>\n",
       "      <td>2</td>\n",
       "      <td>masculino</td>\n",
       "      <td>35-44</td>\n",
       "      <td>fundamental</td>\n",
       "      <td>BA</td>\n",
       "      <td>1882</td>\n",
       "      <td>6</td>\n",
       "      <td>branco/nulo/não sabe</td>\n",
       "      <td>0</td>\n",
       "      <td>0</td>\n",
       "    </tr>\n",
       "    <tr>\n",
       "      <th>2</th>\n",
       "      <td>3</td>\n",
       "      <td>masculino</td>\n",
       "      <td>35-44</td>\n",
       "      <td>fundamental</td>\n",
       "      <td>MG</td>\n",
       "      <td>2241</td>\n",
       "      <td>7</td>\n",
       "      <td>PT</td>\n",
       "      <td>1</td>\n",
       "      <td>0</td>\n",
       "    </tr>\n",
       "    <tr>\n",
       "      <th>3</th>\n",
       "      <td>4</td>\n",
       "      <td>masculino</td>\n",
       "      <td>35-44</td>\n",
       "      <td>fundamental</td>\n",
       "      <td>MG</td>\n",
       "      <td>1831</td>\n",
       "      <td>4</td>\n",
       "      <td>PT</td>\n",
       "      <td>1</td>\n",
       "      <td>0</td>\n",
       "    </tr>\n",
       "    <tr>\n",
       "      <th>4</th>\n",
       "      <td>5</td>\n",
       "      <td>feminino</td>\n",
       "      <td>45-59</td>\n",
       "      <td>fundamental</td>\n",
       "      <td>RS</td>\n",
       "      <td>1835</td>\n",
       "      <td>10</td>\n",
       "      <td>branco/nulo/não sabe</td>\n",
       "      <td>1</td>\n",
       "      <td>0</td>\n",
       "    </tr>\n",
       "  </tbody>\n",
       "</table>\n",
       "</div>"
      ],
      "text/plain": [
       "   id       sexo fx_etaria escolaridade  uf  renda  satisfacao_vida  \\\n",
       "0   1   feminino     16-24  fundamental  CE   1612                3   \n",
       "1   2  masculino     35-44  fundamental  BA   1882                6   \n",
       "2   3  masculino     35-44  fundamental  MG   2241                7   \n",
       "3   4  masculino     35-44  fundamental  MG   1831                4   \n",
       "4   5   feminino     45-59  fundamental  RS   1835               10   \n",
       "\n",
       "                  voto2  uso_redes_diario  apoia_proib_arma  \n",
       "0                outros                 1                 1  \n",
       "1  branco/nulo/não sabe                 0                 0  \n",
       "2                    PT                 1                 0  \n",
       "3                    PT                 1                 0  \n",
       "4  branco/nulo/não sabe                 1                 0  "
      ]
     },
     "execution_count": 4,
     "metadata": {},
     "output_type": "execute_result"
    }
   ],
   "source": [
    "import pandas as pd\n",
    "\n",
    "df = pd.read_csv(\"pesquisa_exemplo.csv\")\n",
    "\n",
    "# Exibir as primeiras linhas (aperte ▶ para executar)\n",
    "df.head()"
   ]
  },
  {
   "cell_type": "markdown",
   "id": "4734c739",
   "metadata": {},
   "source": [
    "---\n",
    "## 1. Revisão rápida: média\n",
    "\n",
    "A **média** é um ponto de referência: soma todos os valores e divide pela quantidade de casos.  \n",
    "Ela resume a **posição central**, mas **não conta** o quão **espalhados** os dados estão. Para isso, usaremos o **desvio‑padrão**."
   ]
  },
  {
   "cell_type": "code",
   "execution_count": 5,
   "id": "c0b13c41",
   "metadata": {},
   "outputs": [
    {
     "data": {
      "text/plain": [
       "2911.55"
      ]
     },
     "execution_count": 5,
     "metadata": {},
     "output_type": "execute_result"
    }
   ],
   "source": [
    "# Calcular a média da variável escolhida\n",
    "media = df['renda'].mean()\n",
    "\n",
    "media"
   ]
  },
  {
   "cell_type": "markdown",
   "id": "27728c95",
   "metadata": {},
   "source": [
    "> **Interpretação:** a média indica um **valor típico**.  \n",
    "> Mas duas turmas podem ter a **mesma média** e **dispersões diferentes**. É por isso que precisamos do **desvio‑padrão**."
   ]
  },
  {
   "cell_type": "markdown",
   "id": "97b13dfe",
   "metadata": {},
   "source": [
    "---\n",
    "## Desvio‑padrão: o tamanho médio do desvio\n",
    "\n",
    "Ideia central: o desvio‑padrão mede **o quanto, em média, os casos se afastam da média**.  \n",
    "- **Maior desvio‑padrão** ⇒ dados mais **espalhados**.  \n",
    "- **Menor desvio‑padrão** ⇒ dados mais **concentrados** perto da média.\n",
    "\n",
    "> Por que elevar ao quadrado? Para que **diferenças negativas e positivas não se anulem**."
   ]
  },
  {
   "cell_type": "code",
   "execution_count": 6,
   "id": "4b8209c0",
   "metadata": {},
   "outputs": [
    {
     "data": {
      "text/plain": [
       "1519.714161041774"
      ]
     },
     "execution_count": 6,
     "metadata": {},
     "output_type": "execute_result"
    }
   ],
   "source": [
    "# Calcular o desvio-padrão (amostral, padrão do pandas)\n",
    "desvio = df['renda'].std()\n",
    "\n",
    "desvio"
   ]
  },
  {
   "cell_type": "code",
   "execution_count": 7,
   "id": "b17b745b",
   "metadata": {},
   "outputs": [
    {
     "name": "stdout",
     "output_type": "stream",
     "text": [
      "Média (renda) = 2911.55\n",
      "Desvio-padrão (renda) = 1519.71\n"
     ]
    }
   ],
   "source": [
    "# Mostrar média e desvio-padrão juntos, com 2 casas decimais\n",
    "print(f\"Média ({'renda'}) = {media:.2f}\")\n",
    "print(f\"Desvio-padrão ({'renda'}) = {desvio:.2f}\")"
   ]
  },
  {
   "cell_type": "markdown",
   "id": "121ea886",
   "metadata": {},
   "source": [
    "> **Leitura:** “Em média, os valores de `{variável}` se desviam da média em aproximadamente **{desvio}** (na mesma unidade da variável).”  \n",
    "> (O código acima mostra isso com duas casas decimais.)"
   ]
  },
  {
   "cell_type": "markdown",
   "id": "2715f4c6",
   "metadata": {},
   "source": [
    "---\n",
    "## Comparando “coisas diferentes” com a mesma régua (z‑score)\n",
    "\n",
    "Situação: duas atividades com **escalas e variações diferentes**.  \n",
    "Para comparar desempenhos, usamos o **z‑score** de cada um.\n",
    "\n",
    "- Atividade A: média 137, desvio 5. Duas pessoas terminaram em 129 e 140.  \n",
    "- Atividade B: média 6,00 m (salto), desvio 0,30 m. Duas pessoas saltaram 6,60 m e 5,84 m."
   ]
  },
  {
   "cell_type": "code",
   "execution_count": 2,
   "id": "23b4577a",
   "metadata": {},
   "outputs": [
    {
     "name": "stdout",
     "output_type": "stream",
     "text": [
      "Pessoa 1 (129 s) → z = -1.60\n",
      "Pessoa 2 (140 s) → z = 0.60\n"
     ]
    }
   ],
   "source": [
    "# Atividade A (tempos menores são melhores, mas o z-score só mede posição relativa)\n",
    "media_A = 137\n",
    "desvio_A = 5\n",
    "tempo_1 = 129\n",
    "tempo_2 = 140\n",
    "\n",
    "z_1 = (tempo_1 - media_A) / desvio_A\n",
    "z_2 = (tempo_2 - media_A) / desvio_A\n",
    "\n",
    "print(f\"Pessoa 1 (129 s) → z = {z_1:.2f}\")\n",
    "print(f\"Pessoa 2 (140 s) → z = {z_2:.2f}\")"
   ]
  },
  {
   "cell_type": "code",
   "execution_count": 3,
   "id": "96dc9e4e",
   "metadata": {},
   "outputs": [
    {
     "name": "stdout",
     "output_type": "stream",
     "text": [
      "Pessoa 1 (6,60 m) → z = 2.00\n",
      "Pessoa 2 (5,84 m) → z = -0.53\n"
     ]
    }
   ],
   "source": [
    "# Atividade B (saltos em metros)\n",
    "media_B = 6.00\n",
    "desvio_B = 0.30\n",
    "salto_1 = 6.60\n",
    "salto_2 = 5.84\n",
    "\n",
    "z_s1 = (salto_1 - media_B) / desvio_B\n",
    "z_s2 = (salto_2 - media_B) / desvio_B\n",
    "\n",
    "print(f\"Pessoa 1 (6,60 m) → z = {z_s1:.2f}\")\n",
    "print(f\"Pessoa 2 (5,84 m) → z = {z_s2:.2f}\")"
   ]
  },
  {
   "cell_type": "markdown",
   "id": "04d917bd",
   "metadata": {},
   "source": [
    "> **Interpretação:** com o **z‑score**, transformamos resultados em uma **escala comum** (“quantos desvios”).  \n",
    "> Isso permite **comparar desempenhos** de atividades com **unidades** e **variações** diferentes."
   ]
  },
  {
   "cell_type": "markdown",
   "id": "c801f1a2",
   "metadata": {},
   "source": [
    "---\n",
    "## A regra empírica (curva normal)\n",
    "\n",
    "Em muitas situações, os dados se aproximam de uma **distribuição normal**. Nesses casos, vale a regra:\n",
    "\n",
    "- Cerca de **68%** dos casos ficam entre **−1 e +1** desvio.  \n",
    "- Cerca de **95%** entre **−2 e +2** desvios.  \n",
    "- Cerca de **99,7%** entre **−3 e +3** desvios.\n",
    "\n",
    "> **Leitura prática:** se um valor tem `z = 2`, ele está **entre os mais altos** da distribuição (aprox. 97,5 percentil)."
   ]
  },
  {
   "cell_type": "markdown",
   "id": "82d47775",
   "metadata": {},
   "source": [
    "---\n",
    "\n",
    "### Conclusões\n",
    "- O **desvio‑padrão** resume a **dispersão** em torno da média.\n",
    "- O **z‑score** coloca tudo na **mesma régua** (desvios‑padrão), permitindo comparações **entre escalas**.\n",
    "- Use esses indicadores como **ferramentas de leitura** dos dados — sempre com **contexto substantivo**."
   ]
  }
 ],
 "metadata": {
  "kernelspec": {
   "display_name": "Python 3 (ipykernel)",
   "language": "python",
   "name": "python3"
  },
  "language_info": {
   "codemirror_mode": {
    "name": "ipython",
    "version": 3
   },
   "file_extension": ".py",
   "mimetype": "text/x-python",
   "name": "python",
   "nbconvert_exporter": "python",
   "pygments_lexer": "ipython3",
   "version": "3.9.13"
  }
 },
 "nbformat": 4,
 "nbformat_minor": 5
}
