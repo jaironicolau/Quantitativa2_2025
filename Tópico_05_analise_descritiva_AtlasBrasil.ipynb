{
 "cells": [
  {
   "cell_type": "markdown",
   "id": "bfb1ade2",
   "metadata": {},
   "source": [
    "# Aula: Estatística descritiva com pandas\n",
    "\n",
    "**Média, mediana, desvio‑padrão, _z-score_, quartis, quintis e decis**\n",
    "\n",
    "> Curso: Introdução à análise de dados com Python (Ciências Sociais)\n",
    "\n",
    "Nesta aula vamos **ler um banco de dados**, **olhar as variáveis** e calcular as medidas descritivas básicas. O roteiro é simples e cada célula faz **uma coisa por vez**."
   ]
  },
  {
   "cell_type": "markdown",
   "id": "9668626b",
   "metadata": {},
   "source": [
    "## 1) Preparação\n",
    "Vamos importar as bibliotecas que usaremos."
   ]
  },
  {
   "cell_type": "code",
   "execution_count": 2,
   "id": "95988d76",
   "metadata": {},
   "outputs": [],
   "source": [
    "import pandas as pd\n",
    "import numpy as np"
   ]
  },
  {
   "cell_type": "markdown",
   "id": "951e40b2",
   "metadata": {},
   "source": [
    "## 2) Ler o banco\n",
    "O arquivo desta aula chama‑se `AtlasBrasil.dta` (formato **Stata**)"
   ]
  },
  {
   "cell_type": "code",
   "execution_count": 64,
   "id": "a2b90ab1-b0f7-495a-9d74-2526a8f8dc28",
   "metadata": {},
   "outputs": [
    {
     "name": "stderr",
     "output_type": "stream",
     "text": [
      "/var/folders/j_/tz9gc8yj4q353002z3gl5_500000gn/T/ipykernel_22563/1589818210.py:1: UnicodeWarning: \n",
      "One or more strings in the dta file could not be decoded using utf-8, and\n",
      "so the fallback encoding of latin-1 is being used.  This can happen when a file\n",
      "has been incorrectly encoded by Stata or some other software. You should verify\n",
      "the string values returned are correct.\n",
      "  df = pd.read_stata('AtlasBrasil.dta')\n"
     ]
    }
   ],
   "source": [
    "df = pd.read_stata('AtlasBrasil.dta')"
   ]
  },
  {
   "cell_type": "markdown",
   "id": "f50b0f71",
   "metadata": {},
   "source": [
    "## 3) Olhar as variáveis\n",
    "Primeiro, veja quantas linhas e colunas temos; depois, os nomes das variáveis."
   ]
  },
  {
   "cell_type": "code",
   "execution_count": 33,
   "id": "efa3af1d",
   "metadata": {},
   "outputs": [
    {
     "data": {
      "text/plain": [
       "(5566, 22)"
      ]
     },
     "execution_count": 33,
     "metadata": {},
     "output_type": "execute_result"
    }
   ],
   "source": [
    "df.shape"
   ]
  },
  {
   "cell_type": "code",
   "execution_count": 34,
   "id": "a97a1e42",
   "metadata": {},
   "outputs": [
    {
     "data": {
      "text/plain": [
       "['municipio',\n",
       " 'ibge',\n",
       " 'gini_1991',\n",
       " 'gini_2000',\n",
       " 'gini_2010',\n",
       " 'pop_1991',\n",
       " 'pop_2000',\n",
       " 'pop_2010',\n",
       " 'IDHM_1991',\n",
       " 'IDHM_2000',\n",
       " 'IDHM_2010',\n",
       " 'rpc1991',\n",
       " 'rpc_2000',\n",
       " 'rpc_2010',\n",
       " 'analfa18_1991',\n",
       " 'analfa18_2000',\n",
       " 'analfa18_2010',\n",
       " 'trab_publico2010',\n",
       " 'trab_publico2000',\n",
       " 'log_pop2010',\n",
       " 'log_pop2000',\n",
       " 'log_pop1991']"
      ]
     },
     "execution_count": 34,
     "metadata": {},
     "output_type": "execute_result"
    }
   ],
   "source": [
    "df.columns.tolist()"
   ]
  },
  {
   "cell_type": "code",
   "execution_count": 35,
   "id": "8b4946b5-fb96-4390-a432-b5044cea0660",
   "metadata": {},
   "outputs": [
    {
     "name": "stdout",
     "output_type": "stream",
     "text": [
      "<class 'pandas.core.frame.DataFrame'>\n",
      "RangeIndex: 5566 entries, 0 to 5565\n",
      "Data columns (total 22 columns):\n",
      " #   Column            Non-Null Count  Dtype  \n",
      "---  ------            --------------  -----  \n",
      " 0   municipio         5566 non-null   object \n",
      " 1   ibge              5565 non-null   float64\n",
      " 2   gini_1991         5565 non-null   float64\n",
      " 3   gini_2000         5565 non-null   float64\n",
      " 4   gini_2010         5565 non-null   float64\n",
      " 5   pop_1991          5565 non-null   float64\n",
      " 6   pop_2000          5565 non-null   float64\n",
      " 7   pop_2010          5565 non-null   float64\n",
      " 8   IDHM_1991         5565 non-null   float64\n",
      " 9   IDHM_2000         5565 non-null   float64\n",
      " 10  IDHM_2010         5565 non-null   float64\n",
      " 11  rpc1991           5565 non-null   float64\n",
      " 12  rpc_2000          5565 non-null   float64\n",
      " 13  rpc_2010          5565 non-null   float64\n",
      " 14  analfa18_1991     5565 non-null   float32\n",
      " 15  analfa18_2000     5565 non-null   float32\n",
      " 16  analfa18_2010     5565 non-null   float32\n",
      " 17  trab_publico2010  5565 non-null   float32\n",
      " 18  trab_publico2000  5565 non-null   float32\n",
      " 19  log_pop2010       5565 non-null   float32\n",
      " 20  log_pop2000       5565 non-null   float32\n",
      " 21  log_pop1991       5565 non-null   float32\n",
      "dtypes: float32(8), float64(13), object(1)\n",
      "memory usage: 782.8+ KB\n"
     ]
    }
   ],
   "source": [
    "df.info()"
   ]
  },
  {
   "cell_type": "markdown",
   "id": "dee0386a",
   "metadata": {},
   "source": [
    "Agora, liste apenas as variáveis **numéricas** (as que aceitam média, mediana etc.)."
   ]
  },
  {
   "cell_type": "code",
   "execution_count": 36,
   "id": "6eb80d97",
   "metadata": {},
   "outputs": [
    {
     "data": {
      "text/plain": [
       "['ibge',\n",
       " 'gini_1991',\n",
       " 'gini_2000',\n",
       " 'gini_2010',\n",
       " 'pop_1991',\n",
       " 'pop_2000',\n",
       " 'pop_2010',\n",
       " 'IDHM_1991',\n",
       " 'IDHM_2000',\n",
       " 'IDHM_2010',\n",
       " 'rpc1991',\n",
       " 'rpc_2000',\n",
       " 'rpc_2010',\n",
       " 'analfa18_1991',\n",
       " 'analfa18_2000',\n",
       " 'analfa18_2010',\n",
       " 'trab_publico2010',\n",
       " 'trab_publico2000',\n",
       " 'log_pop2010',\n",
       " 'log_pop2000',\n",
       " 'log_pop1991']"
      ]
     },
     "execution_count": 36,
     "metadata": {},
     "output_type": "execute_result"
    }
   ],
   "source": [
    "cols_numericas = df.select_dtypes(include='number').columns.tolist()\n",
    "cols_numericas"
   ]
  },
  {
   "cell_type": "markdown",
   "id": "9de2f357",
   "metadata": {},
   "source": [
    "## 4) Escolher **uma** variável numérica\n"
   ]
  },
  {
   "cell_type": "markdown",
   "id": "75627472",
   "metadata": {},
   "source": [
    "Para evitar problemas com valores ausentes (**NA**), vamos criar uma **série** apenas com os números válidos."
   ]
  },
  {
   "cell_type": "code",
   "execution_count": 37,
   "id": "4e197c6f",
   "metadata": {},
   "outputs": [
    {
     "data": {
      "text/plain": [
       "count      5565.000000\n",
       "mean      49360.561725\n",
       "std       24326.933326\n",
       "min        9625.000000\n",
       "25%       28112.000000\n",
       "50%       46765.000000\n",
       "75%       65062.000000\n",
       "max      204374.000000\n",
       "Name: rpc_2010, dtype: float64"
      ]
     },
     "execution_count": 37,
     "metadata": {},
     "output_type": "execute_result"
    }
   ],
   "source": [
    "s = df['rpc_2010'].dropna()\n",
    "s.describe()  # resumo rápido"
   ]
  },
  {
   "cell_type": "markdown",
   "id": "15c0f866",
   "metadata": {},
   "source": [
    "## 5) Medidas centrais e de dispersão\n",
    "- **Média**: valor médio.\n",
    "- **Mediana**: ponto que separa a metade de baixo e a metade de cima.\n",
    "- **Desvio‑padrão**: mede a **dispersão** (quanto os dados variam em torno da média)."
   ]
  },
  {
   "cell_type": "code",
   "execution_count": 38,
   "id": "df425bb4",
   "metadata": {},
   "outputs": [
    {
     "name": "stdout",
     "output_type": "stream",
     "text": [
      "Média   : 49360.56172506738\n",
      "Mediana : 46765.0\n",
      "Desvio‑padrão: 24326.933326461476\n"
     ]
    }
   ],
   "source": [
    "media = s.mean()\n",
    "mediana = s.median()\n",
    "desvio = s.std()  # amostral (ddof=1)\n",
    "print('Média   :', media)\n",
    "print('Mediana :', mediana)\n",
    "print('Desvio‑padrão:', desvio)"
   ]
  },
  {
   "cell_type": "markdown",
   "id": "5b758c9b",
   "metadata": {},
   "source": [
    "## 6) _Z-score_ (padronização)\n",
    "O _z-score_ transforma cada valor **x** em **desvios‑padrão** a partir da média:\n",
    "\n",
    "$$ z = \\frac{x - \\bar{x}}{s} $$\n",
    "\n",
    "- `z > 0` ⇒ valor **acima** da média.\n",
    "- `z < 0` ⇒ valor **abaixo** da média.\n",
    "- `z = 1` ⇒ **um** desvio‑padrão acima; `z = -2` ⇒ **dois** abaixo."
   ]
  },
  {
   "cell_type": "markdown",
   "id": "dea5e8d9-0958-4d64-8219-a40a97dc7455",
   "metadata": {},
   "source": [
    "### Calcular o z-score da populacao e colocar os dados no banco"
   ]
  },
  {
   "cell_type": "code",
   "execution_count": 47,
   "id": "9fc9c83f",
   "metadata": {},
   "outputs": [
    {
     "data": {
      "text/html": [
       "<div>\n",
       "<style scoped>\n",
       "    .dataframe tbody tr th:only-of-type {\n",
       "        vertical-align: middle;\n",
       "    }\n",
       "\n",
       "    .dataframe tbody tr th {\n",
       "        vertical-align: top;\n",
       "    }\n",
       "\n",
       "    .dataframe thead th {\n",
       "        text-align: right;\n",
       "    }\n",
       "</style>\n",
       "<table border=\"1\" class=\"dataframe\">\n",
       "  <thead>\n",
       "    <tr style=\"text-align: right;\">\n",
       "      <th></th>\n",
       "      <th>municipio</th>\n",
       "      <th>ibge</th>\n",
       "      <th>gini_1991</th>\n",
       "      <th>gini_2000</th>\n",
       "      <th>gini_2010</th>\n",
       "      <th>pop_1991</th>\n",
       "      <th>pop_2000</th>\n",
       "      <th>pop_2010</th>\n",
       "      <th>IDHM_1991</th>\n",
       "      <th>IDHM_2000</th>\n",
       "      <th>IDHM_2010</th>\n",
       "      <th>rpc1991</th>\n",
       "      <th>rpc_2000</th>\n",
       "      <th>rpc_2010</th>\n",
       "      <th>analfa18_1991</th>\n",
       "      <th>analfa18_2000</th>\n",
       "      <th>analfa18_2010</th>\n",
       "      <th>trab_publico2010</th>\n",
       "      <th>trab_publico2000</th>\n",
       "      <th>log_pop2010</th>\n",
       "      <th>log_pop2000</th>\n",
       "      <th>log_pop1991</th>\n",
       "      <th>z_brasil</th>\n",
       "    </tr>\n",
       "  </thead>\n",
       "  <tbody>\n",
       "    <tr>\n",
       "      <th>0</th>\n",
       "      <td>Acrelândia (AC)</td>\n",
       "      <td>120001.0</td>\n",
       "      <td>60.0</td>\n",
       "      <td>63.0</td>\n",
       "      <td>54.0</td>\n",
       "      <td>6723.0</td>\n",
       "      <td>9617.0</td>\n",
       "      <td>12538.0</td>\n",
       "      <td>247.0</td>\n",
       "      <td>451.0</td>\n",
       "      <td>604.0</td>\n",
       "      <td>22365.0</td>\n",
       "      <td>26877.0</td>\n",
       "      <td>30376.0</td>\n",
       "      <td>41.560001</td>\n",
       "      <td>28.879999</td>\n",
       "      <td>17.110001</td>\n",
       "      <td>0.98</td>\n",
       "      <td>7.28</td>\n",
       "      <td>9.436520</td>\n",
       "      <td>9.171288</td>\n",
       "      <td>8.813290</td>\n",
       "      <td>-0.780393</td>\n",
       "    </tr>\n",
       "    <tr>\n",
       "      <th>1</th>\n",
       "      <td>Assis Brasil (AC)</td>\n",
       "      <td>120005.0</td>\n",
       "      <td>48.0</td>\n",
       "      <td>60.0</td>\n",
       "      <td>61.0</td>\n",
       "      <td>4269.0</td>\n",
       "      <td>4676.0</td>\n",
       "      <td>6072.0</td>\n",
       "      <td>314.0</td>\n",
       "      <td>425.0</td>\n",
       "      <td>588.0</td>\n",
       "      <td>17852.0</td>\n",
       "      <td>19963.0</td>\n",
       "      <td>29133.0</td>\n",
       "      <td>44.849998</td>\n",
       "      <td>33.799999</td>\n",
       "      <td>22.420000</td>\n",
       "      <td>9.14</td>\n",
       "      <td>3.22</td>\n",
       "      <td>8.711443</td>\n",
       "      <td>8.450198</td>\n",
       "      <td>8.359135</td>\n",
       "      <td>-0.831488</td>\n",
       "    </tr>\n",
       "    <tr>\n",
       "      <th>2</th>\n",
       "      <td>Brasiléia (AC)</td>\n",
       "      <td>120010.0</td>\n",
       "      <td>56.0</td>\n",
       "      <td>60.0</td>\n",
       "      <td>58.0</td>\n",
       "      <td>13292.0</td>\n",
       "      <td>15656.0</td>\n",
       "      <td>21398.0</td>\n",
       "      <td>336.0</td>\n",
       "      <td>476.0</td>\n",
       "      <td>614.0</td>\n",
       "      <td>17676.0</td>\n",
       "      <td>27715.0</td>\n",
       "      <td>37607.0</td>\n",
       "      <td>40.619999</td>\n",
       "      <td>25.510000</td>\n",
       "      <td>19.580000</td>\n",
       "      <td>7.92</td>\n",
       "      <td>12.91</td>\n",
       "      <td>9.971053</td>\n",
       "      <td>9.658609</td>\n",
       "      <td>9.494918</td>\n",
       "      <td>-0.483150</td>\n",
       "    </tr>\n",
       "    <tr>\n",
       "      <th>3</th>\n",
       "      <td>Bujari (AC)</td>\n",
       "      <td>120013.0</td>\n",
       "      <td>51.0</td>\n",
       "      <td>64.0</td>\n",
       "      <td>58.0</td>\n",
       "      <td>3196.0</td>\n",
       "      <td>6227.0</td>\n",
       "      <td>8471.0</td>\n",
       "      <td>267.0</td>\n",
       "      <td>460.0</td>\n",
       "      <td>589.0</td>\n",
       "      <td>19484.0</td>\n",
       "      <td>23886.0</td>\n",
       "      <td>34095.0</td>\n",
       "      <td>48.110001</td>\n",
       "      <td>40.880001</td>\n",
       "      <td>26.780001</td>\n",
       "      <td>8.97</td>\n",
       "      <td>1.29</td>\n",
       "      <td>9.044404</td>\n",
       "      <td>8.736650</td>\n",
       "      <td>8.069655</td>\n",
       "      <td>-0.627517</td>\n",
       "    </tr>\n",
       "    <tr>\n",
       "      <th>4</th>\n",
       "      <td>Capixaba (AC)</td>\n",
       "      <td>120017.0</td>\n",
       "      <td>48.0</td>\n",
       "      <td>55.0</td>\n",
       "      <td>56.0</td>\n",
       "      <td>2312.0</td>\n",
       "      <td>5206.0</td>\n",
       "      <td>8798.0</td>\n",
       "      <td>183.0</td>\n",
       "      <td>365.0</td>\n",
       "      <td>575.0</td>\n",
       "      <td>19572.0</td>\n",
       "      <td>22736.0</td>\n",
       "      <td>33617.0</td>\n",
       "      <td>50.669998</td>\n",
       "      <td>39.759998</td>\n",
       "      <td>23.840000</td>\n",
       "      <td>0.30</td>\n",
       "      <td>6.76</td>\n",
       "      <td>9.082280</td>\n",
       "      <td>8.557567</td>\n",
       "      <td>7.745868</td>\n",
       "      <td>-0.647166</td>\n",
       "    </tr>\n",
       "  </tbody>\n",
       "</table>\n",
       "</div>"
      ],
      "text/plain": [
       "           municipio      ibge  gini_1991  gini_2000  gini_2010  pop_1991  \\\n",
       "0    Acrelândia (AC)  120001.0       60.0       63.0       54.0    6723.0   \n",
       "1  Assis Brasil (AC)  120005.0       48.0       60.0       61.0    4269.0   \n",
       "2     Brasiléia (AC)  120010.0       56.0       60.0       58.0   13292.0   \n",
       "3        Bujari (AC)  120013.0       51.0       64.0       58.0    3196.0   \n",
       "4      Capixaba (AC)  120017.0       48.0       55.0       56.0    2312.0   \n",
       "\n",
       "   pop_2000  pop_2010  IDHM_1991  IDHM_2000  IDHM_2010  rpc1991  rpc_2000  \\\n",
       "0    9617.0   12538.0      247.0      451.0      604.0  22365.0   26877.0   \n",
       "1    4676.0    6072.0      314.0      425.0      588.0  17852.0   19963.0   \n",
       "2   15656.0   21398.0      336.0      476.0      614.0  17676.0   27715.0   \n",
       "3    6227.0    8471.0      267.0      460.0      589.0  19484.0   23886.0   \n",
       "4    5206.0    8798.0      183.0      365.0      575.0  19572.0   22736.0   \n",
       "\n",
       "   rpc_2010  analfa18_1991  analfa18_2000  analfa18_2010  trab_publico2010  \\\n",
       "0   30376.0      41.560001      28.879999      17.110001              0.98   \n",
       "1   29133.0      44.849998      33.799999      22.420000              9.14   \n",
       "2   37607.0      40.619999      25.510000      19.580000              7.92   \n",
       "3   34095.0      48.110001      40.880001      26.780001              8.97   \n",
       "4   33617.0      50.669998      39.759998      23.840000              0.30   \n",
       "\n",
       "   trab_publico2000  log_pop2010  log_pop2000  log_pop1991  z_brasil  \n",
       "0              7.28     9.436520     9.171288     8.813290 -0.780393  \n",
       "1              3.22     8.711443     8.450198     8.359135 -0.831488  \n",
       "2             12.91     9.971053     9.658609     9.494918 -0.483150  \n",
       "3              1.29     9.044404     8.736650     8.069655 -0.627517  \n",
       "4              6.76     9.082280     8.557567     7.745868 -0.647166  "
      ]
     },
     "execution_count": 47,
     "metadata": {},
     "output_type": "execute_result"
    }
   ],
   "source": [
    "#Base Brasil inteira\n",
    "\n",
    "df = df.assign(\n",
    "    z_brasil = (df[\"rpc_2010\"] - df[\"rpc_2010\"].mean()) / df[\"rpc_2010\"].std()\n",
    ")\n",
    "\n",
    "df.head()"
   ]
  },
  {
   "cell_type": "code",
   "execution_count": 48,
   "id": "279b3e7f-8ad8-4625-8cd0-57ade59db8f6",
   "metadata": {},
   "outputs": [
    {
     "data": {
      "text/html": [
       "<div>\n",
       "<style scoped>\n",
       "    .dataframe tbody tr th:only-of-type {\n",
       "        vertical-align: middle;\n",
       "    }\n",
       "\n",
       "    .dataframe tbody tr th {\n",
       "        vertical-align: top;\n",
       "    }\n",
       "\n",
       "    .dataframe thead th {\n",
       "        text-align: right;\n",
       "    }\n",
       "</style>\n",
       "<table border=\"1\" class=\"dataframe\">\n",
       "  <thead>\n",
       "    <tr style=\"text-align: right;\">\n",
       "      <th></th>\n",
       "      <th>municipio</th>\n",
       "      <th>pop_2010</th>\n",
       "      <th>z_brasil</th>\n",
       "    </tr>\n",
       "  </thead>\n",
       "  <tbody>\n",
       "    <tr>\n",
       "      <th>3639</th>\n",
       "      <td>Nova Friburgo (RJ)</td>\n",
       "      <td>182082.0</td>\n",
       "      <td>1.648972</td>\n",
       "    </tr>\n",
       "  </tbody>\n",
       "</table>\n",
       "</div>"
      ],
      "text/plain": [
       "               municipio  pop_2010  z_brasil\n",
       "3639  Nova Friburgo (RJ)  182082.0  1.648972"
      ]
     },
     "execution_count": 48,
     "metadata": {},
     "output_type": "execute_result"
    }
   ],
   "source": [
    "# Filtrar Nova Friburgo\n",
    "df.query(\"municipio.str.contains('Nova Friburgo')\")[[\"municipio\",\"pop_2010\",\"z_brasil\"]]"
   ]
  },
  {
   "cell_type": "code",
   "execution_count": 52,
   "id": "8828685b-64d5-4c14-8efe-593f77e6204c",
   "metadata": {},
   "outputs": [
    {
     "data": {
      "image/png": "[encoded data removed]",
      "text/plain": [
       "<Figure size 800x500 with 1 Axes>"
      ]
     },
     "metadata": {},
     "output_type": "display_data"
    }
   ],
   "source": [
    "import matplotlib.pyplot as plt\n",
    "import seaborn as sns\n",
    "\n",
    "# Histograma focado no intervalo -3 a 3\n",
    "plt.figure(figsize=(8,5))\n",
    "sns.histplot(df[\"z_brasil\"], bins=30, color=\"skyblue\")\n",
    "\n",
    "plt.title(\"Distribuição do z-score da renda per capita (2010)\")\n",
    "plt.xlabel(\"z-score\")\n",
    "plt.ylabel(\"Frequência\")\n",
    "\n",
    "plt.axvline(0, color=\"red\", linestyle=\"--\", label=\"Média\")\n",
    "\n",
    "plt.legend()\n",
    "plt.show()\n"
   ]
  },
  {
   "cell_type": "markdown",
   "id": "9ce2e59a",
   "metadata": {},
   "source": [
    "## 7) Quartis, quintis e decis (**pontos de corte**)\n",
    "- **Quartis**: dividem os dados em 4 partes iguais (25%, 50%, 75%).\n",
    "- **Quintis**: 5 partes (20%, 40%, 60%, 80%).\n",
    "- **Decis**: 10 partes (10%, 20%, …, 90%)."
   ]
  },
  {
   "cell_type": "code",
   "execution_count": 54,
   "id": "3751d112",
   "metadata": {},
   "outputs": [
    {
     "data": {
      "text/plain": [
       "0.25    28112.0\n",
       "0.50    46765.0\n",
       "0.75    65062.0\n",
       "Name: rpc_2010, dtype: float64"
      ]
     },
     "execution_count": 54,
     "metadata": {},
     "output_type": "execute_result"
    }
   ],
   "source": [
    "# Quartis (pontos de corte)\n",
    "quartis = s.quantile([0.25, 0.50, 0.75])\n",
    "quartis"
   ]
  },
  {
   "cell_type": "code",
   "execution_count": 55,
   "id": "9dfabc7a",
   "metadata": {},
   "outputs": [
    {
     "data": {
      "text/plain": [
       "0.2    26134.8\n",
       "0.4    37713.6\n",
       "0.6    54332.4\n",
       "0.8    69444.6\n",
       "Name: rpc_2010, dtype: float64"
      ]
     },
     "execution_count": 55,
     "metadata": {},
     "output_type": "execute_result"
    }
   ],
   "source": [
    "# Quintis (pontos de corte)\n",
    "quintis = s.quantile([0.20, 0.40, 0.60, 0.80])\n",
    "quintis"
   ]
  },
  {
   "cell_type": "code",
   "execution_count": 56,
   "id": "052daeb8",
   "metadata": {},
   "outputs": [
    {
     "data": {
      "text/plain": [
       "0.1    22355.4\n",
       "0.2    26134.8\n",
       "0.3    30374.4\n",
       "0.4    37713.6\n",
       "0.5    46765.0\n",
       "0.6    54332.4\n",
       "0.7    61452.4\n",
       "0.8    69444.6\n",
       "0.9    81434.6\n",
       "Name: rpc_2010, dtype: float64"
      ]
     },
     "execution_count": 56,
     "metadata": {},
     "output_type": "execute_result"
    }
   ],
   "source": [
    "# Decis (pontos de corte)\n",
    "decis = s.quantile(np.linspace(0.10, 0.90, 9))\n",
    "decis"
   ]
  },
  {
   "cell_type": "markdown",
   "id": "4d4d5098",
   "metadata": {},
   "source": [
    "## 8) Criar **faixas** (rótulos) com `qcut`\n",
    "Aqui vamos transformar a variável em **categorias** (por posição na distribuição). Isso é útil para comparar grupos."
   ]
  },
  {
   "cell_type": "code",
   "execution_count": 66,
   "id": "2aab7e9c",
   "metadata": {},
   "outputs": [
    {
     "data": {
      "text/html": [
       "<div>\n",
       "<style scoped>\n",
       "    .dataframe tbody tr th:only-of-type {\n",
       "        vertical-align: middle;\n",
       "    }\n",
       "\n",
       "    .dataframe tbody tr th {\n",
       "        vertical-align: top;\n",
       "    }\n",
       "\n",
       "    .dataframe thead th {\n",
       "        text-align: right;\n",
       "    }\n",
       "</style>\n",
       "<table border=\"1\" class=\"dataframe\">\n",
       "  <thead>\n",
       "    <tr style=\"text-align: right;\">\n",
       "      <th></th>\n",
       "      <th>municipio</th>\n",
       "      <th>pop_2010</th>\n",
       "      <th>quartil</th>\n",
       "    </tr>\n",
       "  </thead>\n",
       "  <tbody>\n",
       "    <tr>\n",
       "      <th>0</th>\n",
       "      <td>Acrelândia (AC)</td>\n",
       "      <td>12538.0</td>\n",
       "      <td>Q3</td>\n",
       "    </tr>\n",
       "    <tr>\n",
       "      <th>1</th>\n",
       "      <td>Assis Brasil (AC)</td>\n",
       "      <td>6072.0</td>\n",
       "      <td>Q2</td>\n",
       "    </tr>\n",
       "    <tr>\n",
       "      <th>2</th>\n",
       "      <td>Brasiléia (AC)</td>\n",
       "      <td>21398.0</td>\n",
       "      <td>Q3</td>\n",
       "    </tr>\n",
       "    <tr>\n",
       "      <th>3</th>\n",
       "      <td>Bujari (AC)</td>\n",
       "      <td>8471.0</td>\n",
       "      <td>Q2</td>\n",
       "    </tr>\n",
       "    <tr>\n",
       "      <th>4</th>\n",
       "      <td>Capixaba (AC)</td>\n",
       "      <td>8798.0</td>\n",
       "      <td>Q2</td>\n",
       "    </tr>\n",
       "  </tbody>\n",
       "</table>\n",
       "</div>"
      ],
      "text/plain": [
       "           municipio  pop_2010 quartil\n",
       "0    Acrelândia (AC)   12538.0      Q3\n",
       "1  Assis Brasil (AC)    6072.0      Q2\n",
       "2     Brasiléia (AC)   21398.0      Q3\n",
       "3        Bujari (AC)    8471.0      Q2\n",
       "4      Capixaba (AC)    8798.0      Q2"
      ]
     },
     "execution_count": 66,
     "metadata": {},
     "output_type": "execute_result"
    }
   ],
   "source": [
    "var = \"pop_2010\"\n",
    "\n",
    "df_temp = df.assign(\n",
    "    quartil = pd.qcut(df[var], 4, labels=[\"Q1\",\"Q2\",\"Q3\",\"Q4\"])\n",
    ")[[\"municipio\", var, \"quartil\"]]   # 👈  na ordem certa\n",
    "\n",
    "df_temp.head()\n"
   ]
  },
  {
   "cell_type": "code",
   "execution_count": 67,
   "id": "8c6c3ba4-4245-4ff8-a530-2089dcdf560e",
   "metadata": {},
   "outputs": [
    {
     "data": {
      "text/html": [
       "<div>\n",
       "<style scoped>\n",
       "    .dataframe tbody tr th:only-of-type {\n",
       "        vertical-align: middle;\n",
       "    }\n",
       "\n",
       "    .dataframe tbody tr th {\n",
       "        vertical-align: top;\n",
       "    }\n",
       "\n",
       "    .dataframe thead th {\n",
       "        text-align: right;\n",
       "    }\n",
       "</style>\n",
       "<table border=\"1\" class=\"dataframe\">\n",
       "  <thead>\n",
       "    <tr style=\"text-align: right;\">\n",
       "      <th></th>\n",
       "      <th>municipio</th>\n",
       "      <th>ibge</th>\n",
       "      <th>gini_1991</th>\n",
       "      <th>gini_2000</th>\n",
       "      <th>gini_2010</th>\n",
       "      <th>pop_1991</th>\n",
       "      <th>pop_2000</th>\n",
       "      <th>pop_2010</th>\n",
       "      <th>IDHM_1991</th>\n",
       "      <th>IDHM_2000</th>\n",
       "      <th>IDHM_2010</th>\n",
       "      <th>rpc1991</th>\n",
       "      <th>rpc_2000</th>\n",
       "      <th>rpc_2010</th>\n",
       "      <th>analfa18_1991</th>\n",
       "      <th>analfa18_2000</th>\n",
       "      <th>analfa18_2010</th>\n",
       "      <th>trab_publico2010</th>\n",
       "      <th>trab_publico2000</th>\n",
       "      <th>log_pop2010</th>\n",
       "      <th>log_pop2000</th>\n",
       "      <th>log_pop1991</th>\n",
       "      <th>quartil</th>\n",
       "    </tr>\n",
       "  </thead>\n",
       "  <tbody>\n",
       "    <tr>\n",
       "      <th>0</th>\n",
       "      <td>Acrelândia (AC)</td>\n",
       "      <td>120001.0</td>\n",
       "      <td>60.0</td>\n",
       "      <td>63.0</td>\n",
       "      <td>54.0</td>\n",
       "      <td>6723.0</td>\n",
       "      <td>9617.0</td>\n",
       "      <td>12538.0</td>\n",
       "      <td>247.0</td>\n",
       "      <td>451.0</td>\n",
       "      <td>604.0</td>\n",
       "      <td>22365.0</td>\n",
       "      <td>26877.0</td>\n",
       "      <td>30376.0</td>\n",
       "      <td>41.560001</td>\n",
       "      <td>28.879999</td>\n",
       "      <td>17.110001</td>\n",
       "      <td>0.98</td>\n",
       "      <td>7.28</td>\n",
       "      <td>9.436520</td>\n",
       "      <td>9.171288</td>\n",
       "      <td>8.813290</td>\n",
       "      <td>Q3</td>\n",
       "    </tr>\n",
       "    <tr>\n",
       "      <th>1</th>\n",
       "      <td>Assis Brasil (AC)</td>\n",
       "      <td>120005.0</td>\n",
       "      <td>48.0</td>\n",
       "      <td>60.0</td>\n",
       "      <td>61.0</td>\n",
       "      <td>4269.0</td>\n",
       "      <td>4676.0</td>\n",
       "      <td>6072.0</td>\n",
       "      <td>314.0</td>\n",
       "      <td>425.0</td>\n",
       "      <td>588.0</td>\n",
       "      <td>17852.0</td>\n",
       "      <td>19963.0</td>\n",
       "      <td>29133.0</td>\n",
       "      <td>44.849998</td>\n",
       "      <td>33.799999</td>\n",
       "      <td>22.420000</td>\n",
       "      <td>9.14</td>\n",
       "      <td>3.22</td>\n",
       "      <td>8.711443</td>\n",
       "      <td>8.450198</td>\n",
       "      <td>8.359135</td>\n",
       "      <td>Q2</td>\n",
       "    </tr>\n",
       "    <tr>\n",
       "      <th>2</th>\n",
       "      <td>Brasiléia (AC)</td>\n",
       "      <td>120010.0</td>\n",
       "      <td>56.0</td>\n",
       "      <td>60.0</td>\n",
       "      <td>58.0</td>\n",
       "      <td>13292.0</td>\n",
       "      <td>15656.0</td>\n",
       "      <td>21398.0</td>\n",
       "      <td>336.0</td>\n",
       "      <td>476.0</td>\n",
       "      <td>614.0</td>\n",
       "      <td>17676.0</td>\n",
       "      <td>27715.0</td>\n",
       "      <td>37607.0</td>\n",
       "      <td>40.619999</td>\n",
       "      <td>25.510000</td>\n",
       "      <td>19.580000</td>\n",
       "      <td>7.92</td>\n",
       "      <td>12.91</td>\n",
       "      <td>9.971053</td>\n",
       "      <td>9.658609</td>\n",
       "      <td>9.494918</td>\n",
       "      <td>Q3</td>\n",
       "    </tr>\n",
       "    <tr>\n",
       "      <th>3</th>\n",
       "      <td>Bujari (AC)</td>\n",
       "      <td>120013.0</td>\n",
       "      <td>51.0</td>\n",
       "      <td>64.0</td>\n",
       "      <td>58.0</td>\n",
       "      <td>3196.0</td>\n",
       "      <td>6227.0</td>\n",
       "      <td>8471.0</td>\n",
       "      <td>267.0</td>\n",
       "      <td>460.0</td>\n",
       "      <td>589.0</td>\n",
       "      <td>19484.0</td>\n",
       "      <td>23886.0</td>\n",
       "      <td>34095.0</td>\n",
       "      <td>48.110001</td>\n",
       "      <td>40.880001</td>\n",
       "      <td>26.780001</td>\n",
       "      <td>8.97</td>\n",
       "      <td>1.29</td>\n",
       "      <td>9.044404</td>\n",
       "      <td>8.736650</td>\n",
       "      <td>8.069655</td>\n",
       "      <td>Q2</td>\n",
       "    </tr>\n",
       "    <tr>\n",
       "      <th>4</th>\n",
       "      <td>Capixaba (AC)</td>\n",
       "      <td>120017.0</td>\n",
       "      <td>48.0</td>\n",
       "      <td>55.0</td>\n",
       "      <td>56.0</td>\n",
       "      <td>2312.0</td>\n",
       "      <td>5206.0</td>\n",
       "      <td>8798.0</td>\n",
       "      <td>183.0</td>\n",
       "      <td>365.0</td>\n",
       "      <td>575.0</td>\n",
       "      <td>19572.0</td>\n",
       "      <td>22736.0</td>\n",
       "      <td>33617.0</td>\n",
       "      <td>50.669998</td>\n",
       "      <td>39.759998</td>\n",
       "      <td>23.840000</td>\n",
       "      <td>0.30</td>\n",
       "      <td>6.76</td>\n",
       "      <td>9.082280</td>\n",
       "      <td>8.557567</td>\n",
       "      <td>7.745868</td>\n",
       "      <td>Q2</td>\n",
       "    </tr>\n",
       "  </tbody>\n",
       "</table>\n",
       "</div>"
      ],
      "text/plain": [
       "           municipio      ibge  gini_1991  gini_2000  gini_2010  pop_1991  \\\n",
       "0    Acrelândia (AC)  120001.0       60.0       63.0       54.0    6723.0   \n",
       "1  Assis Brasil (AC)  120005.0       48.0       60.0       61.0    4269.0   \n",
       "2     Brasiléia (AC)  120010.0       56.0       60.0       58.0   13292.0   \n",
       "3        Bujari (AC)  120013.0       51.0       64.0       58.0    3196.0   \n",
       "4      Capixaba (AC)  120017.0       48.0       55.0       56.0    2312.0   \n",
       "\n",
       "   pop_2000  pop_2010  IDHM_1991  IDHM_2000  IDHM_2010  rpc1991  rpc_2000  \\\n",
       "0    9617.0   12538.0      247.0      451.0      604.0  22365.0   26877.0   \n",
       "1    4676.0    6072.0      314.0      425.0      588.0  17852.0   19963.0   \n",
       "2   15656.0   21398.0      336.0      476.0      614.0  17676.0   27715.0   \n",
       "3    6227.0    8471.0      267.0      460.0      589.0  19484.0   23886.0   \n",
       "4    5206.0    8798.0      183.0      365.0      575.0  19572.0   22736.0   \n",
       "\n",
       "   rpc_2010  analfa18_1991  analfa18_2000  analfa18_2010  trab_publico2010  \\\n",
       "0   30376.0      41.560001      28.879999      17.110001              0.98   \n",
       "1   29133.0      44.849998      33.799999      22.420000              9.14   \n",
       "2   37607.0      40.619999      25.510000      19.580000              7.92   \n",
       "3   34095.0      48.110001      40.880001      26.780001              8.97   \n",
       "4   33617.0      50.669998      39.759998      23.840000              0.30   \n",
       "\n",
       "   trab_publico2000  log_pop2010  log_pop2000  log_pop1991 quartil  \n",
       "0              7.28     9.436520     9.171288     8.813290      Q3  \n",
       "1              3.22     8.711443     8.450198     8.359135      Q2  \n",
       "2             12.91     9.971053     9.658609     9.494918      Q3  \n",
       "3              1.29     9.044404     8.736650     8.069655      Q2  \n",
       "4              6.76     9.082280     8.557567     7.745868      Q2  "
      ]
     },
     "execution_count": 67,
     "metadata": {},
     "output_type": "execute_result"
    }
   ],
   "source": [
    "df = df.assign(\n",
    "    quartil = pd.qcut(df[var], 4, labels=[\"Q1\",\"Q2\",\"Q3\",\"Q4\"])\n",
    ")\n",
    "\n",
    "df.head()"
   ]
  },
  {
   "cell_type": "code",
   "execution_count": null,
   "id": "8e9dfc4d-1f7e-49f2-900c-971d98dc1750",
   "metadata": {},
   "outputs": [],
   "source": []
  },
  {
   "cell_type": "markdown",
   "id": "8d001fcd",
   "metadata": {},
   "source": [
    "## 10) Exercícios\n",
    "1. Troque a variável e repita os cálculos. Qual é a diferença entre **média** e **mediana**?\n",
    "2. Pegue um valor concreto e **calcule o z-score** à mão. O resultado bate com a coluna criada?\n",
    "3. Compare a **média** da variável **dentro** de cada quartil (use `groupby` se já se sentir confortável)."
   ]
  }
 ],
 "metadata": {
  "kernelspec": {
   "display_name": "Python 3 (ipykernel)",
   "language": "python",
   "name": "python3"
  },
  "language_info": {
   "codemirror_mode": {
    "name": "ipython",
    "version": 3
   },
   "file_extension": ".py",
   "mimetype": "text/x-python",
   "name": "python",
   "nbconvert_exporter": "python",
   "pygments_lexer": "ipython3",
   "version": "3.9.13"
  }
 },
 "nbformat": 4,
 "nbformat_minor": 5
}
