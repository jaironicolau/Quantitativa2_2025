{
 "cells": [
  {
   "cell_type": "markdown",
   "id": "58566e19",
   "metadata": {},
   "source": [
    "# Aula: Medidas de **posição** em Estatística (com Python)\n",
    "\n",
    "**Banco:** `pesquisa_exemplo.csv`  \n",
    "**Objetivo:** aprender os conceitos de média, mediana, quartis, quintis, decis e percentis, aplicando no Python.\n",
    "\n",
    "Durante a aula, cada conceito é explicado e depois colocado em prática com código simples.\n"
   ]
  },
  {
   "cell_type": "code",
   "execution_count": 48,
   "id": "485bbe3d",
   "metadata": {},
   "outputs": [],
   "source": [
    "import pandas as pd\n",
    "import matplotlib.pyplot as plt\n",
    "\n",
    "from IPython.display import YouTubeVideo"
   ]
  },
  {
   "cell_type": "markdown",
   "id": "59a0558c",
   "metadata": {},
   "source": [
    "### Ler os dados"
   ]
  },
  {
   "cell_type": "code",
   "execution_count": 3,
   "id": "1e1ac78b",
   "metadata": {},
   "outputs": [],
   "source": [
    "df = pd.read_csv(\"pesquisa_exemplo.csv\")"
   ]
  },
  {
   "cell_type": "markdown",
   "id": "ca7241ad",
   "metadata": {},
   "source": [
    "### Olhando as primeiras linhas da tabela"
   ]
  },
  {
   "cell_type": "code",
   "execution_count": 4,
   "id": "e1b3f032",
   "metadata": {},
   "outputs": [
    {
     "data": {
      "text/html": [
       "<div>\n",
       "<style scoped>\n",
       "    .dataframe tbody tr th:only-of-type {\n",
       "        vertical-align: middle;\n",
       "    }\n",
       "\n",
       "    .dataframe tbody tr th {\n",
       "        vertical-align: top;\n",
       "    }\n",
       "\n",
       "    .dataframe thead th {\n",
       "        text-align: right;\n",
       "    }\n",
       "</style>\n",
       "<table border=\"1\" class=\"dataframe\">\n",
       "  <thead>\n",
       "    <tr style=\"text-align: right;\">\n",
       "      <th></th>\n",
       "      <th>id</th>\n",
       "      <th>sexo</th>\n",
       "      <th>fx_etaria</th>\n",
       "      <th>escolaridade</th>\n",
       "      <th>uf</th>\n",
       "      <th>renda</th>\n",
       "      <th>satisfacao_vida</th>\n",
       "      <th>voto2</th>\n",
       "      <th>uso_redes_diario</th>\n",
       "      <th>apoia_proib_arma</th>\n",
       "    </tr>\n",
       "  </thead>\n",
       "  <tbody>\n",
       "    <tr>\n",
       "      <th>0</th>\n",
       "      <td>1</td>\n",
       "      <td>feminino</td>\n",
       "      <td>16-24</td>\n",
       "      <td>fundamental</td>\n",
       "      <td>CE</td>\n",
       "      <td>1612</td>\n",
       "      <td>3</td>\n",
       "      <td>outros</td>\n",
       "      <td>1</td>\n",
       "      <td>1</td>\n",
       "    </tr>\n",
       "    <tr>\n",
       "      <th>1</th>\n",
       "      <td>2</td>\n",
       "      <td>masculino</td>\n",
       "      <td>35-44</td>\n",
       "      <td>fundamental</td>\n",
       "      <td>BA</td>\n",
       "      <td>1882</td>\n",
       "      <td>6</td>\n",
       "      <td>branco/nulo/não sabe</td>\n",
       "      <td>0</td>\n",
       "      <td>0</td>\n",
       "    </tr>\n",
       "    <tr>\n",
       "      <th>2</th>\n",
       "      <td>3</td>\n",
       "      <td>masculino</td>\n",
       "      <td>35-44</td>\n",
       "      <td>fundamental</td>\n",
       "      <td>MG</td>\n",
       "      <td>2241</td>\n",
       "      <td>7</td>\n",
       "      <td>PT</td>\n",
       "      <td>1</td>\n",
       "      <td>0</td>\n",
       "    </tr>\n",
       "    <tr>\n",
       "      <th>3</th>\n",
       "      <td>4</td>\n",
       "      <td>masculino</td>\n",
       "      <td>35-44</td>\n",
       "      <td>fundamental</td>\n",
       "      <td>MG</td>\n",
       "      <td>1831</td>\n",
       "      <td>4</td>\n",
       "      <td>PT</td>\n",
       "      <td>1</td>\n",
       "      <td>0</td>\n",
       "    </tr>\n",
       "    <tr>\n",
       "      <th>4</th>\n",
       "      <td>5</td>\n",
       "      <td>feminino</td>\n",
       "      <td>45-59</td>\n",
       "      <td>fundamental</td>\n",
       "      <td>RS</td>\n",
       "      <td>1835</td>\n",
       "      <td>10</td>\n",
       "      <td>branco/nulo/não sabe</td>\n",
       "      <td>1</td>\n",
       "      <td>0</td>\n",
       "    </tr>\n",
       "  </tbody>\n",
       "</table>\n",
       "</div>"
      ],
      "text/plain": [
       "   id       sexo fx_etaria escolaridade  uf  renda  satisfacao_vida  \\\n",
       "0   1   feminino     16-24  fundamental  CE   1612                3   \n",
       "1   2  masculino     35-44  fundamental  BA   1882                6   \n",
       "2   3  masculino     35-44  fundamental  MG   2241                7   \n",
       "3   4  masculino     35-44  fundamental  MG   1831                4   \n",
       "4   5   feminino     45-59  fundamental  RS   1835               10   \n",
       "\n",
       "                  voto2  uso_redes_diario  apoia_proib_arma  \n",
       "0                outros                 1                 1  \n",
       "1  branco/nulo/não sabe                 0                 0  \n",
       "2                    PT                 1                 0  \n",
       "3                    PT                 1                 0  \n",
       "4  branco/nulo/não sabe                 1                 0  "
      ]
     },
     "execution_count": 4,
     "metadata": {},
     "output_type": "execute_result"
    }
   ],
   "source": [
    "df.head()"
   ]
  },
  {
   "cell_type": "markdown",
   "id": "966a1880",
   "metadata": {},
   "source": [
    "### Variável escolhida\n",
    "\n",
    "Vamos usar **uma variável numérica** do banco como exemplo.  \n",
    "Ela será chamada aqui de `s` (de série).\n"
   ]
  },
  {
   "cell_type": "code",
   "execution_count": 22,
   "id": "acf625b8",
   "metadata": {},
   "outputs": [
    {
     "data": {
      "text/plain": [
       "0      1612\n",
       "1      1882\n",
       "2      2241\n",
       "3      1831\n",
       "4      1835\n",
       "       ... \n",
       "295    2809\n",
       "296    1903\n",
       "297    5504\n",
       "298     826\n",
       "299    1414\n",
       "Name: renda, Length: 300, dtype: int64"
      ]
     },
     "execution_count": 22,
     "metadata": {},
     "output_type": "execute_result"
    }
   ],
   "source": [
    "s = df[\"renda\"]"
   ]
  },
  {
   "cell_type": "markdown",
   "id": "5c614dde-224d-4b5b-98a7-4a04307dcd9d",
   "metadata": {},
   "source": [
    "## Quantil"
   ]
  },
  {
   "cell_type": "markdown",
   "id": "7e62be8e-3b94-4edb-974e-cec1f61f727b",
   "metadata": {},
   "source": [
    "O quantil é definido como segmento de tamanho igual de uma determinada população. Uma das métricas mais comuns em análise estatística, a mediana, é na verdade apenas o resultado da divisão de uma população em dois quantis. \n",
    "\n",
    "Um quintil é um dos 4 valores que dividem os dados em 5 partes iguais, cada uma sendo 1/5 (20%). Uma população dividida em tercis tem 3 partes iguais, enquanto uma dividida em quartis tem 4 partes. \n",
    "\n",
    "Os quantis são mensurados de formas de diferentes, mas sempre parte de uma distribuição de dados ordenado do menor para o maior valor, ou vice-versa. "
   ]
  },
  {
   "cell_type": "markdown",
   "id": "0716221e",
   "metadata": {},
   "source": [
    "### Quartis\n",
    "\n",
    "Os **quartis** dividem os dados em quatro partes iguais (25% cada).  \n",
    "- **Q1**: 25% dos valores estão abaixo.  \n",
    "- **Q2**: 50% (a própria mediana).  \n",
    "- **Q3**: 75% dos valores estão abaixo.  \n"
   ]
  },
  {
   "cell_type": "code",
   "execution_count": 39,
   "id": "559139c5",
   "metadata": {},
   "outputs": [
    {
     "data": {
      "text/plain": [
       "1711.75"
      ]
     },
     "execution_count": 39,
     "metadata": {},
     "output_type": "execute_result"
    }
   ],
   "source": [
    "s.quantile(0.25)  # Q1"
   ]
  },
  {
   "cell_type": "code",
   "execution_count": 40,
   "id": "e99062db",
   "metadata": {},
   "outputs": [
    {
     "data": {
      "text/plain": [
       "2593.0"
      ]
     },
     "execution_count": 40,
     "metadata": {},
     "output_type": "execute_result"
    }
   ],
   "source": [
    "s.quantile(0.50)  # Q2 (mediana)"
   ]
  },
  {
   "cell_type": "code",
   "execution_count": 41,
   "id": "1311a3cf",
   "metadata": {},
   "outputs": [
    {
     "data": {
      "text/plain": [
       "3896.25"
      ]
     },
     "execution_count": 41,
     "metadata": {},
     "output_type": "execute_result"
    }
   ],
   "source": [
    "s.quantile(0.75)  # Q3"
   ]
  },
  {
   "cell_type": "markdown",
   "id": "d3bdd64d",
   "metadata": {},
   "source": [
    "### Quintis\n",
    "\n",
    "Os **quintis** dividem a distribuição em 5 partes iguais (20% cada).  \n",
    "São muito usados em estudos de **desigualdade de renda**:  \n",
    "- Os 20% mais pobres, segundo quintil, terceiro, quarto e os 20% mais ricos.\n",
    "\n",
    "Exemplo da apostila:  \n",
    "Em 2015, os 20% mais pobres ficavam com 3,6% da renda, e os 20% mais ricos com 56%.\n"
   ]
  },
  {
   "cell_type": "code",
   "execution_count": 30,
   "id": "21fd116d",
   "metadata": {},
   "outputs": [
    {
     "data": {
      "text/plain": [
       "0.2    1555.2\n",
       "0.4    2271.8\n",
       "0.6    3015.6\n",
       "0.8    4171.6\n",
       "Name: renda, dtype: float64"
      ]
     },
     "execution_count": 30,
     "metadata": {},
     "output_type": "execute_result"
    }
   ],
   "source": [
    "s.quantile([0.2, 0.4, 0.6, 0.8])"
   ]
  },
  {
   "cell_type": "markdown",
   "id": "e960fa37-8000-43f2-9806-a515dd4bbaeb",
   "metadata": {},
   "source": [
    "#### Vamos ver o [Nosso World in data](https://ourworldindata.org/grapher/income-share-distribution-wb?country=~BRA)"
   ]
  },
  {
   "cell_type": "markdown",
   "id": "edc0eec1",
   "metadata": {},
   "source": [
    "### Decis\n",
    "\n",
    "Os **decis** dividem a distribuição em 10 partes iguais (10% cada).  \n",
    "Exemplo da apostila:  \n",
    "Se o 1º decil é 35, significa que 10% dos alunos tiveram nota **até 35**.\n"
   ]
  },
  {
   "cell_type": "code",
   "execution_count": 31,
   "id": "13e5d1f4",
   "metadata": {},
   "outputs": [
    {
     "data": {
      "text/plain": [
       "0.1    1175.8\n",
       "0.2    1555.2\n",
       "0.3    1896.7\n",
       "0.4    2271.8\n",
       "0.5    2593.0\n",
       "0.6    3015.6\n",
       "0.7    3497.8\n",
       "0.8    4171.6\n",
       "0.9    5345.3\n",
       "Name: renda, dtype: float64"
      ]
     },
     "execution_count": 31,
     "metadata": {},
     "output_type": "execute_result"
    }
   ],
   "source": [
    "s.quantile([0.1,0.2,0.3,0.4,0.5,0.6,0.7,0.8,0.9])"
   ]
  },
  {
   "cell_type": "markdown",
   "id": "c0a91456",
   "metadata": {},
   "source": [
    "### Percentis\n",
    "\n",
    "Um **percentil** indica a posição relativa de um valor.  \n",
    "Exemplo: o **90º percentil** é o ponto abaixo do qual estão 90% dos casos.\n",
    "\n",
    "Na prática, percentis são usados em exames e pesquisas.  \n",
    "Exemplo da apostila: posição de alunos por notas.\n"
   ]
  },
  {
   "cell_type": "code",
   "execution_count": 42,
   "id": "61924232",
   "metadata": {},
   "outputs": [
    {
     "data": {
      "text/plain": [
       "1175.8"
      ]
     },
     "execution_count": 42,
     "metadata": {},
     "output_type": "execute_result"
    }
   ],
   "source": [
    "s.quantile(0.10)  # 10º percentil"
   ]
  },
  {
   "cell_type": "code",
   "execution_count": 43,
   "id": "256909cb",
   "metadata": {},
   "outputs": [
    {
     "data": {
      "text/plain": [
       "1711.75"
      ]
     },
     "execution_count": 43,
     "metadata": {},
     "output_type": "execute_result"
    }
   ],
   "source": [
    "s.quantile(0.25)  # 25º percentil"
   ]
  },
  {
   "cell_type": "code",
   "execution_count": 44,
   "id": "11014c3e",
   "metadata": {},
   "outputs": [
    {
     "data": {
      "text/plain": [
       "2593.0"
      ]
     },
     "execution_count": 44,
     "metadata": {},
     "output_type": "execute_result"
    }
   ],
   "source": [
    "s.quantile(0.50)  # 50º percentil (mediana)"
   ]
  },
  {
   "cell_type": "code",
   "execution_count": 45,
   "id": "3510f5e4",
   "metadata": {},
   "outputs": [
    {
     "data": {
      "text/plain": [
       "3896.25"
      ]
     },
     "execution_count": 45,
     "metadata": {},
     "output_type": "execute_result"
    }
   ],
   "source": [
    "s.quantile(0.75)  # 75º percentil"
   ]
  },
  {
   "cell_type": "code",
   "execution_count": 46,
   "id": "309d2344",
   "metadata": {},
   "outputs": [
    {
     "data": {
      "text/plain": [
       "5345.3"
      ]
     },
     "execution_count": 46,
     "metadata": {},
     "output_type": "execute_result"
    }
   ],
   "source": [
    "s.quantile(0.90)  # 90º percentil"
   ]
  },
  {
   "cell_type": "code",
   "execution_count": 49,
   "id": "b58554bc-de9e-49a5-94a6-bd9da365bced",
   "metadata": {},
   "outputs": [
    {
     "data": {
      "image/jpeg": "[encoded data removed]",
      "text/html": [
       "\n",
       "        <iframe\n",
       "            width=\"640\"\n",
       "            height=\"360\"\n",
       "            src=\"https://www.youtube.com/embed/QPKKQnijnsM\"\n",
       "            frameborder=\"0\"\n",
       "            allowfullscreen\n",
       "            \n",
       "        ></iframe>\n",
       "        "
      ],
      "text/plain": [
       "<IPython.lib.display.YouTubeVideo at 0x7fb6c6370970>"
      ]
     },
     "execution_count": 49,
     "metadata": {},
     "output_type": "execute_result"
    }
   ],
   "source": [
    "# Passe o ID do vídeo (o código que vem depois de \"v=\" na URL do YouTube)\n",
    "YouTubeVideo(\"QPKKQnijnsM\", width=640, height=360)"
   ]
  },
  {
   "cell_type": "code",
   "execution_count": null,
   "id": "7671e356-5e4c-4f75-a08e-4d8f32ea1c6c",
   "metadata": {},
   "outputs": [],
   "source": []
  }
 ],
 "metadata": {
  "kernelspec": {
   "display_name": "Python 3 (ipykernel)",
   "language": "python",
   "name": "python3"
  },
  "language_info": {
   "codemirror_mode": {
    "name": "ipython",
    "version": 3
   },
   "file_extension": ".py",
   "mimetype": "text/x-python",
   "name": "python",
   "nbconvert_exporter": "python",
   "pygments_lexer": "ipython3",
   "version": "3.9.13"
  }
 },
 "nbformat": 4,
 "nbformat_minor": 5
}
